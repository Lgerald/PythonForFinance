{
 "cells": [
  {
   "cell_type": "code",
   "execution_count": 75,
   "metadata": {},
   "outputs": [],
   "source": [
    "MKT_BOOK = {}"
   ]
  },
  {
   "cell_type": "code",
   "execution_count": 10,
   "metadata": {},
   "outputs": [
    {
     "name": "stdout",
     "output_type": "stream",
     "text": [
      "pk_2f841cbff2d6422ab0145ada59fa5d34\n"
     ]
    }
   ],
   "source": [
    "import pandas as pd\n",
    "import numpy as np\n",
    "import os\n",
    "print(os.environ['IEX_TOKEN'])\n",
    "pd.options.display.float_format = '{:,.2f}'.format\n",
    "\n",
    "SYM_LIST = ['GOOGL', 'FB', 'TWTR', 'VRSN', 'AKAM', 'TRIP', 'MSFT', 'ADP', 'CTXS', 'IRM', 'FFIV',\n",
    "           'JPM', 'BAC', 'WFC', 'C', 'PNC', 'CMA', 'PYPL', 'MA', 'V', 'AXP', 'COF', 'DFS', 'SYF',\n",
    "           'EFX', 'WU', 'NAVI', 'ORCL', 'ADBE', 'CRM', 'INTU', 'ANSS', 'CDNS',\n",
    "           'WMT', 'COST', 'TGT', 'DG', 'DLTR',\n",
    "           'DIS', 'CMCSA', 'FOXA']"
   ]
  },
  {
   "cell_type": "code",
   "execution_count": 76,
   "metadata": {},
   "outputs": [
    {
     "name": "stdout",
     "output_type": "stream",
     "text": [
      "Retrieving GOOGL\n",
      "Retrieving FB\n",
      "Retrieving TWTR\n",
      "Retrieving VRSN\n",
      "Retrieving AKAM\n",
      "Retrieving TRIP\n",
      "Retrieving MSFT\n",
      "Retrieving ADP\n",
      "Retrieving CTXS\n",
      "Retrieving IRM\n",
      "Retrieving FFIV\n",
      "Retrieving JPM\n",
      "Retrieving BAC\n",
      "Retrieving WFC\n",
      "Retrieving C\n",
      "Retrieving PNC\n",
      "Retrieving CMA\n",
      "Retrieving PYPL\n",
      "Retrieving MA\n",
      "Retrieving V\n",
      "Retrieving AXP\n",
      "Retrieving COF\n",
      "Retrieving DFS\n",
      "Retrieving SYF\n",
      "Retrieving EFX\n",
      "Retrieving WU\n",
      "Retrieving NAVI\n",
      "Retrieving ORCL\n",
      "Retrieving ADBE\n",
      "Retrieving CRM\n",
      "Retrieving INTU\n",
      "Retrieving ANSS\n",
      "Retrieving CDNS\n",
      "Retrieving WMT\n",
      "Retrieving COST\n",
      "Retrieving TGT\n",
      "Retrieving DG\n",
      "Retrieving DLTR\n",
      "Retrieving DIS\n",
      "Retrieving CMCSA\n",
      "Retrieving FOXA\n"
     ]
    }
   ],
   "source": [
    "# Finance data time\n",
    "from datetime import datetime\n",
    "from iexfinance.stocks import get_historical_data\n",
    "\n",
    "for sym in SYM_LIST:\n",
    "    if sym not in MKT_BOOK:\n",
    "        start = datetime(2020, 1, 1)\n",
    "        end = datetime(2020, 2, 11)\n",
    "        print(\"Retrieving {}\".format(sym))\n",
    "        MKT_BOOK[sym] = pd.DataFrame(get_historical_data(sym, start, end)).transpose()\n",
    "    else:\n",
    "        print('{} already retrieved'.format(sym))"
   ]
  },
  {
   "cell_type": "code",
   "execution_count": 12,
   "metadata": {},
   "outputs": [],
   "source": [
    "def pos_streaker(x):\n",
    "    global count\n",
    "    if(x > 0):\n",
    "        count += 1\n",
    "    else:\n",
    "        count = 0\n",
    "    return count"
   ]
  },
  {
   "cell_type": "code",
   "execution_count": 13,
   "metadata": {},
   "outputs": [],
   "source": [
    "def neg_streaker(x):\n",
    "    global count\n",
    "    if(x <= 0):\n",
    "        count += 1\n",
    "    else:\n",
    "        count = 0\n",
    "    return count"
   ]
  },
  {
   "cell_type": "code",
   "execution_count": 14,
   "metadata": {},
   "outputs": [],
   "source": [
    "def strat_builder(x):\n",
    "    if x['volume'] < (x['vol_mean'] - x['vol_std']) and x['dow'] == 'Friday':\n",
    "        return -1\n",
    "    elif x['volume'] > (x['vol_mean'] + x['vol_std']) and x['dow'] != 'Friday':\n",
    "        return 1\n",
    "    else:\n",
    "        return 0\n",
    "    \n",
    "    "
   ]
  },
  {
   "cell_type": "code",
   "execution_count": 15,
   "metadata": {},
   "outputs": [],
   "source": [
    "def ten_avg_vol_up(x):\n",
    "    if (x['10_avg'] < x['close'] and x['20_avg'] < x['close']):\n",
    "        return 1\n",
    "    elif (x['10_avg'] > x['close'] and x['20_avg'] > x['close']):\n",
    "        return -1\n",
    "    else:\n",
    "        return 0"
   ]
  },
  {
   "cell_type": "code",
   "execution_count": 16,
   "metadata": {},
   "outputs": [],
   "source": [
    "def dow_strat_builder(x): # Winner so far\n",
    "    if x['dow'] == 'Friday': # Short on Friday Close\n",
    "        return -1\n",
    "    elif x['dow'] == 'Monday': # Long Monday Open\n",
    "        return 1\n",
    "    else:\n",
    "        return 0"
   ]
  },
  {
   "cell_type": "code",
   "execution_count": 29,
   "metadata": {},
   "outputs": [],
   "source": [
    "corr_frame = pd.DataFrame()"
   ]
  },
  {
   "cell_type": "code",
   "execution_count": 81,
   "metadata": {},
   "outputs": [
    {
     "name": "stdout",
     "output_type": "stream",
     "text": [
      "One period shifted Corr between BAC and C is 0.9221443081467452\n",
      "One period shifted Corr between C and BAC is 0.9221443081467452\n",
      "One period shifted Corr between DFS and SYF is 0.9555942903751679\n",
      "One period shifted Corr between SYF and DFS is 0.9555942903751679\n"
     ]
    }
   ],
   "source": [
    "one_per_return_corr = pd.DataFrame()\n",
    "for sym in MKT_BOOK:\n",
    "    one_per_return_corr[sym] = MKT_BOOK[sym].shift(3)['log_returns'] # One day shift correlation between closing prices\n",
    "one_per_return_corr = one_per_return_corr.corr() \n",
    "one_per_return_corr = one_per_return_corr[one_per_return_corr > 0.9]\n",
    "one_per_return_corr = one_per_return_corr[one_per_return_corr < 1]\n",
    "one_per_return_corr[:5]\n",
    "for col in one_per_return_corr:\n",
    "    for idx, val in one_per_return_corr[col].iteritems():\n",
    "        if not pd.isna(val):\n",
    "            print(\"One period shifted Corr between {} and {} is {}\".format(col, idx, val))\n",
    "            "
   ]
  },
  {
   "cell_type": "code",
   "execution_count": null,
   "metadata": {},
   "outputs": [],
   "source": [
    "# TODO strat based on above\n",
    "# If DFS log returns > 0 1 else -1"
   ]
  },
  {
   "cell_type": "code",
   "execution_count": 78,
   "metadata": {},
   "outputs": [],
   "source": [
    "for sym in SYM_LIST:\n",
    "    df = MKT_BOOK[sym]\n",
    "    df['log_returns'] = np.log(df['close']/df['close'].shift(1))\n",
    "    df['vol_mean'] = df['volume'].mean()\n",
    "    df['vol_std']= df['volume'].std()\n",
    "    day_series = pd.date_range(start, end, freq='D').to_series()\n",
    "    day_series_dow = day_series.dt.dayofweek\n",
    "    df['volume_direction'] = np.where(df['volume'] > df['volume'].shift(1), 1, -1)\n",
    "    df['10_avg'] = df['close'].rolling(10).mean()\n",
    "    df['20_avg'] = df['close'].rolling(20).mean()\n",
    "    df['date'] = df.index\n",
    "    count = 0 \n",
    "    df['up_streaks'] = df['log_returns'].apply(pos_streaker)\n",
    "    df['down_streaks'] = df['log_returns'].apply(neg_streaker)\n",
    "    df['dow'] = pd.to_datetime(df['date'], errors='coerce').dt.day_name()\n",
    "    df['price_mean'] = df['close'].mean()\n",
    "    df['price_std'] = df['close'].std()\n",
    "    df['std_dist'] = ((df['close'] - df['price_mean']) / df['price_std'])\n",
    "    \n",
    "    df['dist_ovr_two_sig'] = np.where(abs(df['std_dist']) > 1, 1, 0) # expand this to a a strat to apply       \n",
    "    df['strat'] = df.apply(dow_strat_builder, axis=1)\n",
    "    # To do return strategy from that\n",
    "    df['passive_returns'] = np.cumsum(df['log_returns'])\n",
    "    # Shift a day forward - if a strat initiates at the close, it captures the next close-close log returns\n",
    "    df['strat_returns'] = np.cumsum(df['strat'] * df.shift(-1, fill_value=0)['log_returns'])\n",
    "    df['two_sig_returns'] = np.cumsum(df['dist_ovr_two_sig'] * df.shift(-1, fill_value=0)['log_returns'])"
   ]
  },
  {
   "cell_type": "code",
   "execution_count": 28,
   "metadata": {},
   "outputs": [
    {
     "data": {
      "text/html": [
       "<div>\n",
       "<style scoped>\n",
       "    .dataframe tbody tr th:only-of-type {\n",
       "        vertical-align: middle;\n",
       "    }\n",
       "\n",
       "    .dataframe tbody tr th {\n",
       "        vertical-align: top;\n",
       "    }\n",
       "\n",
       "    .dataframe thead th {\n",
       "        text-align: right;\n",
       "    }\n",
       "</style>\n",
       "<table border=\"1\" class=\"dataframe\">\n",
       "  <thead>\n",
       "    <tr style=\"text-align: right;\">\n",
       "      <th></th>\n",
       "      <th>close</th>\n",
       "      <th>high</th>\n",
       "      <th>low</th>\n",
       "      <th>open</th>\n",
       "      <th>volume</th>\n",
       "      <th>log_returns</th>\n",
       "      <th>vol_mean</th>\n",
       "      <th>vol_std</th>\n",
       "      <th>volume_direction</th>\n",
       "      <th>10_avg</th>\n",
       "      <th>...</th>\n",
       "      <th>down_streaks</th>\n",
       "      <th>dow</th>\n",
       "      <th>price_mean</th>\n",
       "      <th>price_std</th>\n",
       "      <th>std_dist</th>\n",
       "      <th>dist_ovr_two_sig</th>\n",
       "      <th>strat</th>\n",
       "      <th>passive_returns</th>\n",
       "      <th>strat_returns</th>\n",
       "      <th>two_sig_returns</th>\n",
       "    </tr>\n",
       "  </thead>\n",
       "  <tbody>\n",
       "    <tr>\n",
       "      <th>2019-12-31</th>\n",
       "      <td>157.70</td>\n",
       "      <td>157.77</td>\n",
       "      <td>156.45</td>\n",
       "      <td>156.77</td>\n",
       "      <td>18,393,383.00</td>\n",
       "      <td>0.00</td>\n",
       "      <td>24,673,844.01</td>\n",
       "      <td>7,699,540.45</td>\n",
       "      <td>1</td>\n",
       "      <td>156.99</td>\n",
       "      <td>...</td>\n",
       "      <td>0</td>\n",
       "      <td>Tuesday</td>\n",
       "      <td>130.38</td>\n",
       "      <td>14.90</td>\n",
       "      <td>1.83</td>\n",
       "      <td>1</td>\n",
       "      <td>0</td>\n",
       "      <td>0.44</td>\n",
       "      <td>0.08</td>\n",
       "      <td>0.21</td>\n",
       "    </tr>\n",
       "  </tbody>\n",
       "</table>\n",
       "<p>1 rows × 23 columns</p>\n",
       "</div>"
      ],
      "text/plain": [
       "            close   high    low   open        volume  log_returns  \\\n",
       "2019-12-31 157.70 157.77 156.45 156.77 18,393,383.00         0.00   \n",
       "\n",
       "                vol_mean      vol_std  volume_direction  10_avg  ...  \\\n",
       "2019-12-31 24,673,844.01 7,699,540.45                 1  156.99  ...   \n",
       "\n",
       "            down_streaks      dow  price_mean  price_std std_dist  \\\n",
       "2019-12-31             0  Tuesday      130.38      14.90     1.83   \n",
       "\n",
       "            dist_ovr_two_sig  strat  passive_returns  strat_returns  \\\n",
       "2019-12-31                 1      0             0.44           0.08   \n",
       "\n",
       "            two_sig_returns  \n",
       "2019-12-31             0.21  \n",
       "\n",
       "[1 rows x 23 columns]"
      ]
     },
     "execution_count": 28,
     "metadata": {},
     "output_type": "execute_result"
    }
   ],
   "source": [
    "MKT_BOOK['MSFT'][-1:]"
   ]
  },
  {
   "cell_type": "code",
   "execution_count": 22,
   "metadata": {},
   "outputs": [
    {
     "data": {
      "text/plain": [
       "<matplotlib.axes._subplots.AxesSubplot at 0x119e60f98>"
      ]
     },
     "execution_count": 22,
     "metadata": {},
     "output_type": "execute_result"
    }
   ],
   "source": [
    "MKT_BOOK['GOOGL']['std_dist'].plot()"
   ]
  },
  {
   "cell_type": "code",
   "execution_count": 23,
   "metadata": {},
   "outputs": [],
   "source": [
    "def plot_strat(sym):    \n",
    "    strat_plot = pd.DataFrame([MKT_BOOK[sym]['strat_returns'], MKT_BOOK[sym]['passive_returns']])\n",
    "    strat_plot = strat_plot.transpose()\n",
    "    strat_plot.plot(figsize=(20,12))"
   ]
  },
  {
   "cell_type": "code",
   "execution_count": 24,
   "metadata": {},
   "outputs": [
    {
     "name": "stdout",
     "output_type": "stream",
     "text": [
      "Returns Per Instrument\n",
      "=================================\n",
      "GOOGL : 0.10\n",
      "FB : 0.17\n",
      "TWTR : 0.04\n",
      "VRSN : 0.26\n",
      "AKAM : 0.25\n",
      "TRIP : 0.29\n",
      "MSFT : 0.08\n",
      "ADP : 0.15\n",
      "CTXS : 0.07\n",
      "IRM : -0.14\n",
      "FFIV : -0.09\n",
      "JPM : 0.05\n",
      "BAC : 0.02\n",
      "WFC : 0.01\n",
      "C : 0.00\n",
      "PNC : -0.01\n",
      "CMA : 0.12\n",
      "PYPL : 0.17\n",
      "MA : 0.10\n",
      "V : 0.13\n",
      "AXP : 0.16\n",
      "COF : 0.07\n",
      "DFS : 0.11\n",
      "SYF : 0.07\n",
      "EFX : 0.14\n",
      "WU : 0.16\n",
      "NAVI : 0.04\n",
      "ORCL : 0.01\n",
      "ADBE : 0.17\n",
      "CRM : 0.26\n",
      "INTU : 0.19\n",
      "ANSS : 0.12\n",
      "CDNS : 0.17\n",
      "WMT : 0.03\n",
      "COST : 0.11\n",
      "TGT : -0.01\n",
      "DG : 0.10\n",
      "DLTR : -0.19\n",
      "DIS : 0.07\n",
      "CMCSA : 0.32\n",
      "FOXA : -0.02\n",
      "Starting Capital: 410000\n",
      "Profit/Loss: 2019-12-31   38,493.42\n",
      "Name: strat_returns, dtype: float64\n",
      "P/L %: 2019-12-31   0.09\n",
      "Name: strat_returns, dtype: float64\n"
     ]
    }
   ],
   "source": [
    "INITIAL_BET = 10000\n",
    "PORTFOLIO_PROFIT = 0\n",
    "STARTING_CAPITAL = len(SYM_LIST * INITIAL_BET)\n",
    "returns = []\n",
    "for sym in SYM_LIST:\n",
    "    PORTFOLIO_PROFIT += ((MKT_BOOK[sym][-1:]['strat_returns'] + 1) * INITIAL_BET) - INITIAL_BET # etc.\n",
    "print(\"Returns Per Instrument\\n=================================\")\n",
    "for sym in SYM_LIST:\n",
    "    print(\"{} : {}\".format(sym, (MKT_BOOK[sym][-1:]['strat_returns'].to_string(index=False))))\n",
    "print(\"Starting Capital: {}\".format(STARTING_CAPITAL))\n",
    "print(\"Profit/Loss: {}\".format(PORTFOLIO_PROFIT))\n",
    "print(\"P/L %: {}\".format((STARTING_CAPITAL + PORTFOLIO_PROFIT) / STARTING_CAPITAL - 1))"
   ]
  },
  {
   "cell_type": "code",
   "execution_count": 25,
   "metadata": {},
   "outputs": [],
   "source": [
    "# Consider regime switching for what strat to run"
   ]
  },
  {
   "cell_type": "code",
   "execution_count": 26,
   "metadata": {},
   "outputs": [
    {
     "data": {
      "image/png": "[encoded data removed]",
      "text/plain": [
       "<Figure size 1440x864 with 1 Axes>"
      ]
     },
     "metadata": {
      "needs_background": "light"
     },
     "output_type": "display_data"
    }
   ],
   "source": [
    "plot_strat('DLTR')"
   ]
  },
  {
   "cell_type": "code",
   "execution_count": null,
   "metadata": {},
   "outputs": [],
   "source": [
    "# Learn how to group volume by day.\n",
    "# What's emerging is a vector of variables."
   ]
  },
  {
   "cell_type": "code",
   "execution_count": null,
   "metadata": {},
   "outputs": [],
   "source": []
  }
 ],
 "metadata": {
  "kernelspec": {
   "display_name": "Python 3",
   "language": "python",
   "name": "python3"
  },
  "language_info": {
   "codemirror_mode": {
    "name": "ipython",
    "version": 3
   },
   "file_extension": ".py",
   "mimetype": "text/x-python",
   "name": "python",
   "nbconvert_exporter": "python",
   "pygments_lexer": "ipython3",
   "version": "3.7.3"
  }
 },
 "nbformat": 4,
 "nbformat_minor": 2
}
