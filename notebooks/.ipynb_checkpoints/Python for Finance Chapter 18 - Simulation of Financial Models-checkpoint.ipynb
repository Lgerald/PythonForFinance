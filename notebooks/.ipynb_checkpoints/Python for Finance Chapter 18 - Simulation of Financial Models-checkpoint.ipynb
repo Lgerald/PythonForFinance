{
 "cells": [
  {
   "cell_type": "code",
   "execution_count": 1,
   "metadata": {},
   "outputs": [
    {
     "data": {
      "text/plain": [
       "'\\nRandom Number Generation\\n\\nRandom Number generation is central to Monte Carlo simulation\\n\\n'"
      ]
     },
     "execution_count": 1,
     "metadata": {},
     "output_type": "execute_result"
    }
   ],
   "source": [
    "'''\n",
    "Random Number Generation\n",
    "\n",
    "Random Number generation is central to Monte Carlo simulation\n",
    "\n",
    "'''"
   ]
  },
  {
   "cell_type": "code",
   "execution_count": 39,
   "metadata": {},
   "outputs": [],
   "source": [
    "import numpy as np\n",
    "import datetime as dt\n",
    "\n",
    "def sn_random_numbers(shape, antithetic=True, moment_matching=True, fixed_seed=False):\n",
    "    '''\n",
    "    Returns an ndarray of shape shape with pseudorandom numbers that are standard normal distribution\n",
    "    \n",
    "    Params:\n",
    "    ##########\n",
    "    shape: tuple (o, n, m): Generation of array of shape (o,n,m)\n",
    "    antithetic: boolean: Antithetic variates or not\n",
    "    VOCAB TIME: Antithetic in Monte Carlo context just means that for every generated path also takes it's opposite.\n",
    "    Formally, multiple the path by the scalar -1 in all dimenstions: for (1…………n) also generate -1(1…………n)\n",
    "    \n",
    "    moment_matching: boolean: matching of first and second moments (mean, variance)\n",
    "    fixed_seed: boolean : fix the seed or not\n",
    "    \n",
    "    Returns:\n",
    "    ##########\n",
    "    ran: (o,n,m) array of pseudorandom standard normally distributed numbers\n",
    "    \n",
    "    '''\n",
    "    if fixed_seed:\n",
    "        np.random.seed(1000)\n",
    "    if antithetic:\n",
    "        # divide by 2 because we're taking the antithetic as well\n",
    "        ran = np.random.standard_normal((\n",
    "        shape[0], shape[1], shape[2] // 2))\n",
    "        ran = np.concatenate((ran, -ran), axis=2)\n",
    "    else:\n",
    "        ran = np.random.standard_normal((shape[0], shape[1], shape[2]))\n",
    "    if moment_matching:\n",
    "        # centralize the mean and std_deviation around the drawn population\n",
    "        ran = ran - np.mean(ran)\n",
    "        ran = ran / np.std(ran)\n",
    "        print(\"Matching moments!\")\n",
    "    if shape[0] == 1:\n",
    "        return ran[0]\n",
    "    else:\n",
    "        return ran\n",
    "    "
   ]
  },
  {
   "cell_type": "code",
   "execution_count": 19,
   "metadata": {},
   "outputs": [
    {
     "data": {
      "text/plain": [
       "array([[[-0.8044583 ,  0.32093155],\n",
       "        [-0.02548288,  0.64432383]],\n",
       "\n",
       "       [[-0.30079667,  0.38947455],\n",
       "        [-0.1074373 , -0.47998308]]])"
      ]
     },
     "execution_count": 19,
     "metadata": {},
     "output_type": "execute_result"
    }
   ],
   "source": [
    "# without moment matching\n",
    "snrn = sn_random_numbers((2,2,2), antithetic=False, moment_matching=False, fixed_seed=True)\n",
    "snrn"
   ]
  },
  {
   "cell_type": "raw",
   "metadata": {},
   "source": []
  },
  {
   "cell_type": "code",
   "execution_count": 20,
   "metadata": {},
   "outputs": [
    {
     "data": {
      "text/plain": [
       "-0.045429"
      ]
     },
     "execution_count": 20,
     "metadata": {},
     "output_type": "execute_result"
    }
   ],
   "source": [
    "round(snrn.mean(), 6)"
   ]
  },
  {
   "cell_type": "code",
   "execution_count": 21,
   "metadata": {},
   "outputs": [
    {
     "data": {
      "text/plain": [
       "0.451876"
      ]
     },
     "execution_count": 21,
     "metadata": {},
     "output_type": "execute_result"
    }
   ],
   "source": [
    "round(snrn.std(), 6)"
   ]
  },
  {
   "cell_type": "code",
   "execution_count": 22,
   "metadata": {},
   "outputs": [
    {
     "name": "stdout",
     "output_type": "stream",
     "text": [
      "Matching moments!\n"
     ]
    },
    {
     "data": {
      "text/plain": [
       "array([[[-1.67972865,  0.81075283],\n",
       "        [ 0.04413963,  1.52641815]],\n",
       "\n",
       "       [[-0.56512826,  0.96243813],\n",
       "        [-0.13722505, -0.96166678]]])"
      ]
     },
     "execution_count": 22,
     "metadata": {},
     "output_type": "execute_result"
    }
   ],
   "source": [
    "# with moment matching\n",
    "snrn = sn_random_numbers((2,2,2), antithetic=False, moment_matching=True, fixed_seed=True)\n",
    "snrn"
   ]
  },
  {
   "cell_type": "code",
   "execution_count": 23,
   "metadata": {},
   "outputs": [
    {
     "data": {
      "text/plain": [
       "-0.0"
      ]
     },
     "execution_count": 23,
     "metadata": {},
     "output_type": "execute_result"
    }
   ],
   "source": [
    "round(snrn.mean(), 6)"
   ]
  },
  {
   "cell_type": "code",
   "execution_count": 24,
   "metadata": {},
   "outputs": [
    {
     "data": {
      "text/plain": [
       "1.0"
      ]
     },
     "execution_count": 24,
     "metadata": {},
     "output_type": "execute_result"
    }
   ],
   "source": [
    "round(snrn.std(), 6)"
   ]
  },
  {
   "cell_type": "code",
   "execution_count": 35,
   "metadata": {},
   "outputs": [],
   "source": [
    "class market_environment(object):\n",
    "    '''\n",
    "    class to model a market environment relevant for valuation\n",
    "    \n",
    "    Attributes\n",
    "    ===========\n",
    "    name: string - name of the market environment\n",
    "    pricing_date: datetime - date of the market environment\n",
    "    \n",
    "    Methods\n",
    "    =========\n",
    "    add_constant: adds a constant market parameter\n",
    "    get_constant: get constant\n",
    "    add_lists: adds a list (of underlyings)\n",
    "    get_list: gets a list\n",
    "    add_curve: adds a market curve (i.e. yield curve)\n",
    "    get_curve: gets a market curve\n",
    "    add_environment: upserts whole market environments with constants, lists, curves\n",
    "    \n",
    "    '''\n",
    "    def __init__(self, name, pricing_date):\n",
    "        self.name = name\n",
    "        self.pricing_date = pricing_date\n",
    "        self.constants = {}\n",
    "        self.lists = {}\n",
    "        self.curves = {}\n",
    "        \n",
    "    def add_constant(self, key, constant):\n",
    "        self.constants[key] = constant\n",
    "    \n",
    "    def get_constant(self, key):\n",
    "        return self.constants[key]\n",
    "    \n",
    "    def add_list(self, key, list_object):\n",
    "        self.lists[key] = list_object\n",
    "        \n",
    "    def get_list(self, key):\n",
    "        return self.lists[key]\n",
    "    \n",
    "    def add_curve(self, key, curve):\n",
    "        self.curves[key] = curve\n",
    "        \n",
    "    def get_curve(self, key):\n",
    "        return self.curves[key]\n",
    "    \n",
    "    def add_environment(self, env):\n",
    "        # overwrite values for class if they exist\n",
    "        self.constants.update(env.constants)\n",
    "        self.lists.update(env.lists)\n",
    "        self.curves.update(env.curves)\n",
    "        "
   ]
  },
  {
   "cell_type": "code",
   "execution_count": 44,
   "metadata": {},
   "outputs": [],
   "source": [
    "'''\n",
    "This is useful for calculating the general discount factor, in this case\n",
    "exp(-r * t) at time t\n",
    "Modeling this as a class:\n",
    "'''\n",
    "class constant_short_rate(object):\n",
    "    '''\n",
    "    Class for constant short rate discounting.\n",
    "    \n",
    "    Attributes\n",
    "    ===========\n",
    "    name: string - name of the object\n",
    "    short_rate: float (positive) - constant rate for discounting\n",
    "    \n",
    "    Results\n",
    "    ==========\n",
    "    get_discount_factors: get discount factors given a list/array of timestamp objects\n",
    "    '''\n",
    "    \n",
    "    def __init__(self, name, short_rate):\n",
    "        self.name = name\n",
    "        self.short_rate = short_rate\n",
    "        if(short_rate < 0):\n",
    "            raise ValueError('Short rate negative.')\n",
    "    \n",
    "    def get_discount_factors(self, date_list, dtobjects=True):\n",
    "        if dtobjects is True:\n",
    "            dlist = get_year_deltas(date_list)\n",
    "        else:\n",
    "            dlist = np.array(date_list)\n",
    "        dflist = np.exp(self.short_rate * np.sort(-dlist)) # take negative of time fractions\n",
    "        return np.array((date_list, dflist)).T"
   ]
  },
  {
   "cell_type": "code",
   "execution_count": 36,
   "metadata": {},
   "outputs": [],
   "source": [
    "'''\n",
    "Now build from a generic simulation class towards specific applications\n",
    "\n",
    "'''\n",
    "import numpy as np\n",
    "import pandas as pd\n",
    "class simulation_class(object):\n",
    "    '''\n",
    "    Provide base methods for simulation classes\n",
    "    \n",
    "    Params\n",
    "    =========\n",
    "    name: str - name of the object\n",
    "    mar_env: market_environment - a market environment\n",
    "    corr: bool - is this object correlated with another modeled object?\n",
    "    \n",
    "    Methods\n",
    "    =========\n",
    "    generated_time_grid: returns discretized time intervals for simulation\n",
    "    get_instrument_values: returns current values of security simulated (as ndarray)\n",
    "    '''\n",
    "    \n",
    "    def __init__(self, name, mar_env, cor):\n",
    "        self.name = name\n",
    "        self.pricing_date = mar_env.pricing_date\n",
    "        self.initial_value = mar_env.get_constant('initial_value')\n",
    "        self.volatility = mar_env.get_constant('volatility')\n",
    "        self.final_date = mar_env.get_constant('final_date')\n",
    "        self.currency = mar_env.get_constant('currency')\n",
    "        self.frequency = mar_env.get_constant('frequency')\n",
    "        self.paths = mar_env.get_constant('paths')\n",
    "        self.discount_curve = mar_env.get_curve('discount_curve')\n",
    "        try:\n",
    "            # If there is a time grid in mar_env take it\n",
    "            self.time_grid = mar_env.get_list('time_grid')\n",
    "        except:\n",
    "            self.time_grid = None\n",
    "        try:\n",
    "            # if there are special dates, add those\n",
    "            self.special_dates = mar_env.get_list('special_dates')\n",
    "        except:\n",
    "            self.special_dates = []\n",
    "        self.instrument_values = None\n",
    "        self.correlated = corr\n",
    "        if corr is True:\n",
    "            # only needed when risk factors are correlated\n",
    "            self.cholesky_matrix = mar_env.get_list('cholesky_matrix')\n",
    "            self.rn_set = mar_env.get_list('rn_set')[self.name]\n",
    "            self.random_numbers = mar_env.get_list('random_numbers')\n",
    "        \n",
    "    def generate_time_grid(self):\n",
    "        start = self.pricing_date\n",
    "        end = self.final_date\n",
    "        # use pandas date range func to generate time grid\n",
    "        # freq is pandas frequency char\n",
    "        time_grid = pd.date_range(start=start, end=end, freq=self.frequency).to_pydatetime()\n",
    "        time_grid = list(time_grid)\n",
    "        # add begin, end, special\n",
    "        if start not in time_grid:\n",
    "            time_grid.insert(0, start)\n",
    "            \n",
    "        if end not in time_grid:\n",
    "            time_grid.append(end)\n",
    "        if len(self.special_dates > 0):\n",
    "            # add all\n",
    "            time_grid.extend(special_dates)\n",
    "            # de-dup\n",
    "            time_grid = list(set(time_grid))\n",
    "            # sort\n",
    "            time_grid.sort()\n",
    "        # cast back to np array\n",
    "        self.time_grid = np.array(time_grid)\n",
    "    \n",
    "    def get_instrument_values(self, fixed_seed=True):\n",
    "        if self.instrument_values is None:\n",
    "            # only initiative simulation if no values\n",
    "            self.generate_paths(fixed_seed=fixed_seed, day_count=365.)\n",
    "        elif fixed_seed is False:\n",
    "            # also resim if not a fixed seed (i.e. monte carlo)\n",
    "            self.generate_paths(fixed_seed=fixed_seed, day_count=365.)\n",
    "        # Otherwise all set so return what was simulated already\n",
    "        return self.instrument_values"
   ]
  },
  {
   "cell_type": "code",
   "execution_count": 37,
   "metadata": {},
   "outputs": [],
   "source": [
    "'''\n",
    "Set up the Euler Discretizatin of the Geometric Brownian Motion PDE\n",
    "'''\n",
    "class geometric_brownian_motion(simulation_class):\n",
    "    '''\n",
    "    Class to generate simulated paths based on the Black-Scholes-Merton GBM model\n",
    "    \n",
    "    Attributes\n",
    "    =========\n",
    "    name: string - name of obj\n",
    "    mar_env: market_environment instance\n",
    "    corr: Boolean - is this correlated to other modeled objects?\n",
    "    \n",
    "    Methods\n",
    "    =========\n",
    "    update: updates parameters\n",
    "    generate_paths: returns Monte Carlo paths given env\n",
    "    '''\n",
    "    def __init__(self, name, mar_env, corr=False):\n",
    "        super(geometric_brownian_motion, self).__init__(name, mar_env, corr)\n",
    "        \n",
    "    def update(self, initial_value=None, volatility=None, final_date=None):\n",
    "        if initial_value is not None:\n",
    "            self.initial_value = initial_value\n",
    "        if volatility is not None:\n",
    "            self.volatility = volatility\n",
    "        if final_date is not None:\n",
    "            self.final_date = final_date\n",
    "        self.instrument_values = None\n",
    "        \n",
    "    def generate_paths(self, fixed_seed=False, day_count=365.):\n",
    "        if self.time_grid is None:\n",
    "            self.generate_time_grid()\n",
    "        # Grid size\n",
    "        M = len(self.time_grid)\n",
    "        # Number of Paths for Monte\n",
    "        I = self.paths\n",
    "        # ndArray of the Monte Carlo shape (time steps by number of evolutions)\n",
    "        paths = np.zeros((M, I))\n",
    "        # initialize first step of each trial with initial value\n",
    "        paths[0] = self.initial_value\n",
    "\n",
    "        if not self.correlated:\n",
    "            # if not correlated, go random\n",
    "            rand = sn_random_numbers((1, M, I), fixed_seed=fixed_seed)\n",
    "        else:\n",
    "            # if correlated, use correlation random numbers object from market_env\n",
    "            rand = self.random_numbers\n",
    "\n",
    "        short_rate = self.discount_curve.short_rate\n",
    "        # short rate for drift process\n",
    "        \n",
    "        for t in range(1, len(self.time_grid)):\n",
    "            # select right idx from random number set\n",
    "            if not self.correlated:\n",
    "                ran = rand[t]\n",
    "            else:\n",
    "                ran = np.dot(self.cholesky_matrix, rand[:, t, :])\n",
    "                ran = ran[self.rn_set]\n",
    "        \n",
    "            # difference between two dates as a year fraction (infinitisemal for Euler discretization)\n",
    "            dt = (self.time_grid[t]- self.time_grid[t-1]).days / day_count        \n",
    "\n",
    "            paths[t] = paths[t-1] * np.exp((short_rate - 0.5 * self.volatility ** 2) * dt +\n",
    "                                          self.volatility * np.sqrt(dt) * ran)\n",
    "            # ran is Brownian motion evolution\n",
    "            # dt is time slice (weighting for this slice's evolution)\n",
    "        \n",
    "        self.instrument_values = paths\n",
    "            "
   ]
  },
  {
   "cell_type": "code",
   "execution_count": 40,
   "metadata": {},
   "outputs": [],
   "source": [
    "# Now let's actually do something with it!\n",
    "me_gbm = market_environment('me_gbm', dt.datetime(2020, 1, 1))"
   ]
  },
  {
   "cell_type": "code",
   "execution_count": 42,
   "metadata": {},
   "outputs": [],
   "source": [
    "me_gbm.add_constant('initial_value', 36.)\n",
    "me_gbm.add_constant('volatility', 0.2)\n",
    "me_gbm.add_constant('final_date', dt.datetime(2020, 12, 31))\n",
    "me_gbm.add_constant('currency', 'EUR')\n",
    "me_gbm.add_constant('frequency', 'M')\n",
    "me_gbm.add_constant('paths', 10000)"
   ]
  },
  {
   "cell_type": "code",
   "execution_count": 45,
   "metadata": {},
   "outputs": [],
   "source": [
    "csr = constant_short_rate('csr', 0.06)"
   ]
  },
  {
   "cell_type": "markdown",
   "metadata": {},
   "source": []
  }
 ],
 "metadata": {
  "kernelspec": {
   "display_name": "Python 3",
   "language": "python",
   "name": "python3"
  },
  "language_info": {
   "codemirror_mode": {
    "name": "ipython",
    "version": 3
   },
   "file_extension": ".py",
   "mimetype": "text/x-python",
   "name": "python",
   "nbconvert_exporter": "python",
   "pygments_lexer": "ipython3",
   "version": "3.7.2"
  }
 },
 "nbformat": 4,
 "nbformat_minor": 2
}
