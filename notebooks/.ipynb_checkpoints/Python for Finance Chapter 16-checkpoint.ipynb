{
 "cells": [
  {
   "cell_type": "code",
   "execution_count": 1,
   "metadata": {},
   "outputs": [
    {
     "data": {
      "text/plain": [
       "\"\\nKelly Criterion\\nExpected Value of Game = (Probability(Win) - Probability(Loss)) * Size of Bet > 0\\n\\nThe available capital after n rounds of game is:\\nc(n) = c(0) * (1+f)^h - (1+f)^t\\nwhere\\nc(n) = capital at round n\\nh = probability of win\\nt = probability of loss \\nf = fraction of capital to commit\\n\\nSo the closed form log-return maximization problem becomes:\\nr(g) = (h/n) * log(1+f) + (t/n) * log(1+f)\\ni.e. the sum of the product winning probability divided by the number of trials and the product of \\nthe losing probability divided by the number of trials\\n\\nSo the f term is the maximization of the expected value of the rate of growth, which is the function G(f)\\nE[h] = n * p\\nE[t] = n * q\\n\\nThen \\nE[r^g] = p * log(1+f) + q * log(1+f)\\n= G(f)\\n\\nTaking the first derivative of G(f):\\nG'(f) = (p/1+f) - (q/1+f)\\n= (p - pf - q - qf)/((1+f)*(1-f))\\n= (p - q - f)/ ((1+f)*(1-f))\\nor the quotient of (trails * win fraction) - (trails * loss fraction) - (fraction) and the product (1 + fraction)\\nand (1 - fraction)\\n\\nso finally the optimal fraction is:\\nf(n) = p - q\\nREAL NUMBER TIME!\\nIf win chance = 55 &\\nlose change = 45\\n55 - 45 = 10, so invest 10% of capital per bet,\\n\\nof course, constraining for max position size in any given security\\n\\nLet's do it in code:\\n\""
      ]
     },
     "execution_count": 1,
     "metadata": {},
     "output_type": "execute_result"
    }
   ],
   "source": [
    "'''\n",
    "Kelly Criterion\n",
    "Expected Value of Game = (Probability(Win) - Probability(Loss)) * Size of Bet > 0\n",
    "\n",
    "The available capital after n rounds of game is:\n",
    "c(n) = c(0) * (1+f)^h - (1+f)^t\n",
    "where\n",
    "c(n) = capital at round n\n",
    "h = probability of win\n",
    "t = probability of loss \n",
    "f = fraction of capital to commit\n",
    "\n",
    "So the closed form log-return maximization problem becomes:\n",
    "r(g) = (h/n) * log(1+f) + (t/n) * log(1+f)\n",
    "i.e. the sum of the product winning probability divided by the number of trials and the product of \n",
    "the losing probability divided by the number of trials\n",
    "\n",
    "So the f term is the maximization of the expected value of the rate of growth, which is the function G(f)\n",
    "E[h] = n * p\n",
    "E[t] = n * q\n",
    "\n",
    "Then \n",
    "E[r^g] = p * log(1+f) + q * log(1+f)\n",
    "= G(f)\n",
    "\n",
    "Taking the first derivative of G(f):\n",
    "G'(f) = (p/1+f) - (q/1+f)\n",
    "= (p - pf - q - qf)/((1+f)*(1-f))\n",
    "= (p - q - f)/ ((1+f)*(1-f))\n",
    "or the quotient of (trails * win fraction) - (trails * loss fraction) - (fraction) and the product (1 + fraction)\n",
    "and (1 - fraction)\n",
    "\n",
    "so finally the optimal fraction is:\n",
    "f(n) = p - q\n",
    "REAL NUMBER TIME!\n",
    "If win chance = 55 &\n",
    "lose change = 45\n",
    "55 - 45 = 10, so invest 10% of capital per bet,\n",
    "\n",
    "of course, constraining for max position size in any given security\n",
    "\n",
    "Let's do it in code:\n",
    "'''"
   ]
  },
  {
   "cell_type": "code",
   "execution_count": 7,
   "metadata": {},
   "outputs": [
    {
     "ename": "ModuleNotFoundError",
     "evalue": "No module named 'cufflinks'",
     "output_type": "error",
     "traceback": [
      "\u001b[0;31m---------------------------------------------------------------------------\u001b[0m",
      "\u001b[0;31mModuleNotFoundError\u001b[0m                       Traceback (most recent call last)",
      "\u001b[0;32m<ipython-input-7-2b5b1d49c197>\u001b[0m in \u001b[0;36m<module>\u001b[0;34m\u001b[0m\n\u001b[1;32m      4\u001b[0m \u001b[0;32mimport\u001b[0m \u001b[0mpandas\u001b[0m \u001b[0;32mas\u001b[0m \u001b[0mpd\u001b[0m\u001b[0;34m\u001b[0m\u001b[0;34m\u001b[0m\u001b[0m\n\u001b[1;32m      5\u001b[0m \u001b[0;32mimport\u001b[0m \u001b[0mdatetime\u001b[0m \u001b[0;32mas\u001b[0m \u001b[0mdt\u001b[0m\u001b[0;34m\u001b[0m\u001b[0;34m\u001b[0m\u001b[0m\n\u001b[0;32m----> 6\u001b[0;31m \u001b[0;32mimport\u001b[0m \u001b[0mcufflinks\u001b[0m \u001b[0;32mas\u001b[0m \u001b[0mcf\u001b[0m\u001b[0;34m\u001b[0m\u001b[0;34m\u001b[0m\u001b[0m\n\u001b[0m\u001b[1;32m      7\u001b[0m \u001b[0;32mfrom\u001b[0m \u001b[0mpylab\u001b[0m \u001b[0;32mimport\u001b[0m \u001b[0mplt\u001b[0m\u001b[0;34m\u001b[0m\u001b[0;34m\u001b[0m\u001b[0m\n",
      "\u001b[0;31mModuleNotFoundError\u001b[0m: No module named 'cufflinks'"
     ]
    }
   ],
   "source": [
    "import math\n",
    "import time\n",
    "import numpy as np\n",
    "import pandas as pd\n",
    "import datetime as dt\n",
    "import cufflinks as cf\n",
    "from pylab import plt"
   ]
  },
  {
   "cell_type": "code",
   "execution_count": null,
   "metadata": {},
   "outputs": [],
   "source": []
  }
 ],
 "metadata": {
  "kernelspec": {
   "display_name": "Python 3",
   "language": "python",
   "name": "python3"
  },
  "language_info": {
   "codemirror_mode": {
    "name": "ipython",
    "version": 3
   },
   "file_extension": ".py",
   "mimetype": "text/x-python",
   "name": "python",
   "nbconvert_exporter": "python",
   "pygments_lexer": "ipython3",
   "version": "3.7.2"
  }
 },
 "nbformat": 4,
 "nbformat_minor": 2
}
