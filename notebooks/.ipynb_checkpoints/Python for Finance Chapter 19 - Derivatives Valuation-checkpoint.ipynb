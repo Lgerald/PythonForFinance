{
 "cells": [
  {
   "cell_type": "code",
   "execution_count": null,
   "metadata": {},
   "outputs": [],
   "source": [
    "class valuation_class(object):\n",
    "    '''\n",
    "    Basic class for single factor derivative valuation\n",
    "    Attributes\n",
    "    =========\n",
    "    name: str - name of the object\n",
    "    underlying: instance of a simulation class modeling single risk factor\n",
    "    mar_env: instance of market environment\n",
    "    payoff_func: str - derivative payoff as a python function that can be evaluated\n",
    "    \n",
    "    Methods\n",
    "    =========\n",
    "    update: updates selected valuation parameters\n",
    "    delta: returns delta of derivative (change in price to underlying risk factor)\n",
    "    vega: returns vega of derivative (change in price to implied volatility)\n",
    "    '''\n",
    "    def __init__(self, name, underlying, mar_env, payoff_func=''):\n",
    "        self.name = name\n",
    "        self.pricing_date = mar_env.pricing_date\n",
    "        try:\n",
    "            # strike price is optional\n",
    "            self.strike = mar_env.get_constant('strike')\n",
    "        except:\n",
    "            pass\n",
    "        \n",
    "        self.underlying = underlying\n",
    "        self.mar_env = mar_env\n",
    "        "
   ]
  }
 ],
 "metadata": {
  "kernelspec": {
   "display_name": "Python 3",
   "language": "python",
   "name": "python3"
  },
  "language_info": {
   "codemirror_mode": {
    "name": "ipython",
    "version": 3
   },
   "file_extension": ".py",
   "mimetype": "text/x-python",
   "name": "python",
   "nbconvert_exporter": "python",
   "pygments_lexer": "ipython3",
   "version": "3.7.3"
  }
 },
 "nbformat": 4,
 "nbformat_minor": 2
}
