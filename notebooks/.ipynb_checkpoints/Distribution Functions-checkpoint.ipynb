{
 "cells": [
  {
   "cell_type": "markdown",
   "metadata": {},
   "source": [
    "# Cumulative Distribution Function\n",
    "* A function that outputs the probability that random variable X is less than or equal to input x\n",
    "* Intuition: How we get \"The 99th percentile\" - think \"If I take a test and get my score back, what percentage of takers did I score better than\""
   ]
  },
  {
   "cell_type": "markdown",
   "metadata": {},
   "source": [
    "# Probably Density Function\n",
    "* In a **Continuous Distribution**, this function outputs the probability that provides the **relative likelihood** that a variable falls within a paricular region of the distribution\n",
    "* It is the _Derivative of the cumulative distribution function_"
   ]
  },
  {
   "cell_type": "markdown",
   "metadata": {},
   "source": [
    "# Poisson Distribution\n",
    "* Models the probability of $\\displaystyle{ \\lambda }$ events occuring over a period of time t\n",
    "* A **Poisson Process** is any process following this distribution\n",
    "* Ref: `https://towardsdatascience.com/poisson-distribution-intuition-and-derivation-1059aeab90d`"
   ]
  },
  {
   "cell_type": "markdown",
   "metadata": {},
   "source": [
    "# Expoential Distribution\n",
    "* Models the **time between events**\n",
    "* Closely related to the Poisson Distribution - in fact the parameter $\\displaystyle{ \\lambda }$ refers to the same thing (number of events\n",
    "* Ref: `https://towardsdatascience.com/what-is-exponential-distribution-7bdd08590e2a`"
   ]
  },
  {
   "cell_type": "code",
   "execution_count": null,
   "metadata": {},
   "outputs": [],
   "source": []
  }
 ],
 "metadata": {
  "kernelspec": {
   "display_name": "Python 3",
   "language": "python",
   "name": "python3"
  },
  "language_info": {
   "codemirror_mode": {
    "name": "ipython",
    "version": 3
   },
   "file_extension": ".py",
   "mimetype": "text/x-python",
   "name": "python",
   "nbconvert_exporter": "python",
   "pygments_lexer": "ipython3",
   "version": "3.7.3"
  }
 },
 "nbformat": 4,
 "nbformat_minor": 2
}
