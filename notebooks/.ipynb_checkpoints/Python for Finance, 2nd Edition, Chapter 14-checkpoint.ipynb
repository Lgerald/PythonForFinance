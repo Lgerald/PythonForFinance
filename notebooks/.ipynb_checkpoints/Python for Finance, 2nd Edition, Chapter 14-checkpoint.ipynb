{
 "cells": [
  {
   "cell_type": "code",
   "execution_count": 1,
   "metadata": {},
   "outputs": [
    {
     "name": "stdout",
     "output_type": "stream",
     "text": [
      "no fail\n"
     ]
    }
   ],
   "source": [
    "import fxcmpy\n",
    "import time\n",
    "import numpy as np\n",
    "import pandas as pd\n",
    "import datetime as dt\n",
    "from matplotlib import pylab\n",
    "from pylab import plt, mpl\n",
    "\n",
    "api = fxcmpy.fxcmpy(access_token='1787dbb385a48cf9b67e92e4b2bda2bee3664d40', log_level='error')\n",
    "plt.style.use('seaborn')\n",
    "mpl.rcParams['font.family'] = 'serif'\n",
    "print('no fail')\n"
   ]
  },
  {
   "cell_type": "code",
   "execution_count": 3,
   "metadata": {},
   "outputs": [],
   "source": [
    "%matplotlib inline"
   ]
  },
  {
   "cell_type": "code",
   "execution_count": 4,
   "metadata": {},
   "outputs": [],
   "source": [
    "from fxcmpy import fxcmpy_tick_data_reader as tdr"
   ]
  },
  {
   "cell_type": "code",
   "execution_count": 6,
   "metadata": {},
   "outputs": [
    {
     "name": "stdout",
     "output_type": "stream",
     "text": [
      "('AUDCAD', 'AUDCHF', 'AUDJPY', 'AUDNZD', 'CADCHF', 'EURAUD', 'EURCHF', 'EURGBP', 'EURJPY', 'EURUSD', 'GBPCHF', 'GBPJPY', 'GBPNZD', 'GBPUSD', 'GBPCHF', 'GBPJPY', 'GBPNZD', 'NZDCAD', 'NZDCHF', 'NZDJPY', 'NZDUSD', 'USDCAD', 'USDCHF', 'USDJPY')\n"
     ]
    }
   ],
   "source": [
    "print(tdr.get_available_symbols())"
   ]
  },
  {
   "cell_type": "code",
   "execution_count": 7,
   "metadata": {},
   "outputs": [],
   "source": [
    "start = dt.datetime(2018, 6, 25)\n",
    "stop = dt.datetime(2018, 6, 30)"
   ]
  },
  {
   "cell_type": "code",
   "execution_count": 8,
   "metadata": {},
   "outputs": [],
   "source": [
    "td = tdr('EURUSD', start, stop)"
   ]
  },
  {
   "cell_type": "code",
   "execution_count": 10,
   "metadata": {},
   "outputs": [
    {
     "name": "stdout",
     "output_type": "stream",
     "text": [
      "<class 'pandas.core.frame.DataFrame'>\n",
      "Index: 1963779 entries, 06/24/2018 21:00:12.290 to 06/29/2018 20:59:00.607\n",
      "Data columns (total 2 columns):\n",
      "Bid    float64\n",
      "Ask    float64\n",
      "dtypes: float64(2)\n",
      "memory usage: 44.9+ MB\n"
     ]
    }
   ],
   "source": [
    "td.get_raw_data().info()"
   ]
  },
  {
   "cell_type": "code",
   "execution_count": 11,
   "metadata": {},
   "outputs": [
    {
     "name": "stdout",
     "output_type": "stream",
     "text": [
      "<class 'pandas.core.frame.DataFrame'>\n",
      "DatetimeIndex: 1963779 entries, 2018-06-24 21:00:12.290000 to 2018-06-29 20:59:00.607000\n",
      "Data columns (total 2 columns):\n",
      "Bid    float64\n",
      "Ask    float64\n",
      "dtypes: float64(2)\n",
      "memory usage: 44.9 MB\n"
     ]
    }
   ],
   "source": [
    "td.get_data().info()"
   ]
  },
  {
   "cell_type": "code",
   "execution_count": 16,
   "metadata": {},
   "outputs": [
    {
     "data": {
      "text/html": [
       "<div>\n",
       "<style scoped>\n",
       "    .dataframe tbody tr th:only-of-type {\n",
       "        vertical-align: middle;\n",
       "    }\n",
       "\n",
       "    .dataframe tbody tr th {\n",
       "        vertical-align: top;\n",
       "    }\n",
       "\n",
       "    .dataframe thead th {\n",
       "        text-align: right;\n",
       "    }\n",
       "</style>\n",
       "<table border=\"1\" class=\"dataframe\">\n",
       "  <thead>\n",
       "    <tr style=\"text-align: right;\">\n",
       "      <th></th>\n",
       "      <th>Bid</th>\n",
       "      <th>Ask</th>\n",
       "    </tr>\n",
       "  </thead>\n",
       "  <tbody>\n",
       "    <tr>\n",
       "      <th>2018-06-24 21:00:12.290</th>\n",
       "      <td>1.1662</td>\n",
       "      <td>1.16660</td>\n",
       "    </tr>\n",
       "    <tr>\n",
       "      <th>2018-06-24 21:00:16.046</th>\n",
       "      <td>1.1662</td>\n",
       "      <td>1.16650</td>\n",
       "    </tr>\n",
       "    <tr>\n",
       "      <th>2018-06-24 21:00:22.846</th>\n",
       "      <td>1.1662</td>\n",
       "      <td>1.16658</td>\n",
       "    </tr>\n",
       "    <tr>\n",
       "      <th>2018-06-24 21:00:22.907</th>\n",
       "      <td>1.1662</td>\n",
       "      <td>1.16660</td>\n",
       "    </tr>\n",
       "    <tr>\n",
       "      <th>2018-06-24 21:00:23.441</th>\n",
       "      <td>1.1662</td>\n",
       "      <td>1.16663</td>\n",
       "    </tr>\n",
       "  </tbody>\n",
       "</table>\n",
       "</div>"
      ],
      "text/plain": [
       "                            Bid      Ask\n",
       "2018-06-24 21:00:12.290  1.1662  1.16660\n",
       "2018-06-24 21:00:16.046  1.1662  1.16650\n",
       "2018-06-24 21:00:22.846  1.1662  1.16658\n",
       "2018-06-24 21:00:22.907  1.1662  1.16660\n",
       "2018-06-24 21:00:23.441  1.1662  1.16663"
      ]
     },
     "execution_count": 16,
     "metadata": {},
     "output_type": "execute_result"
    }
   ],
   "source": [
    "td.get_data().head()"
   ]
  },
  {
   "cell_type": "code",
   "execution_count": 17,
   "metadata": {},
   "outputs": [],
   "source": [
    "sub = td.get_data(start='2018-06-29 12:00:00', end='2018-06-29 12:15:00')"
   ]
  },
  {
   "cell_type": "code",
   "execution_count": 18,
   "metadata": {},
   "outputs": [
    {
     "data": {
      "text/html": [
       "<div>\n",
       "<style scoped>\n",
       "    .dataframe tbody tr th:only-of-type {\n",
       "        vertical-align: middle;\n",
       "    }\n",
       "\n",
       "    .dataframe tbody tr th {\n",
       "        vertical-align: top;\n",
       "    }\n",
       "\n",
       "    .dataframe thead th {\n",
       "        text-align: right;\n",
       "    }\n",
       "</style>\n",
       "<table border=\"1\" class=\"dataframe\">\n",
       "  <thead>\n",
       "    <tr style=\"text-align: right;\">\n",
       "      <th></th>\n",
       "      <th>Bid</th>\n",
       "      <th>Ask</th>\n",
       "    </tr>\n",
       "  </thead>\n",
       "  <tbody>\n",
       "    <tr>\n",
       "      <th>2018-06-29 12:00:00.011</th>\n",
       "      <td>1.16497</td>\n",
       "      <td>1.16498</td>\n",
       "    </tr>\n",
       "    <tr>\n",
       "      <th>2018-06-29 12:00:00.071</th>\n",
       "      <td>1.16497</td>\n",
       "      <td>1.16497</td>\n",
       "    </tr>\n",
       "    <tr>\n",
       "      <th>2018-06-29 12:00:00.079</th>\n",
       "      <td>1.16497</td>\n",
       "      <td>1.16498</td>\n",
       "    </tr>\n",
       "    <tr>\n",
       "      <th>2018-06-29 12:00:00.091</th>\n",
       "      <td>1.16495</td>\n",
       "      <td>1.16498</td>\n",
       "    </tr>\n",
       "    <tr>\n",
       "      <th>2018-06-29 12:00:00.205</th>\n",
       "      <td>1.16496</td>\n",
       "      <td>1.16498</td>\n",
       "    </tr>\n",
       "  </tbody>\n",
       "</table>\n",
       "</div>"
      ],
      "text/plain": [
       "                             Bid      Ask\n",
       "2018-06-29 12:00:00.011  1.16497  1.16498\n",
       "2018-06-29 12:00:00.071  1.16497  1.16497\n",
       "2018-06-29 12:00:00.079  1.16497  1.16498\n",
       "2018-06-29 12:00:00.091  1.16495  1.16498\n",
       "2018-06-29 12:00:00.205  1.16496  1.16498"
      ]
     },
     "execution_count": 18,
     "metadata": {},
     "output_type": "execute_result"
    }
   ],
   "source": [
    "sub.head()"
   ]
  },
  {
   "cell_type": "code",
   "execution_count": 26,
   "metadata": {},
   "outputs": [],
   "source": [
    "sub['Mid'] = sub.mean(axis=1)"
   ]
  },
  {
   "cell_type": "code",
   "execution_count": 27,
   "metadata": {},
   "outputs": [],
   "source": [
    "sub['SMA'] = sub['Mid'].rolling(1000).mean()"
   ]
  },
  {
   "cell_type": "code",
   "execution_count": 28,
   "metadata": {},
   "outputs": [
    {
     "data": {
      "text/plain": [
       "<matplotlib.axes._subplots.AxesSubplot at 0x10f79c710>"
      ]
     },
     "execution_count": 28,
     "metadata": {},
     "output_type": "execute_result"
    },
    {
     "data": {
      "image/png": "[encoded data removed]",
      "text/plain": [
       "<Figure size 720x432 with 1 Axes>"
      ]
     },
     "metadata": {
      "needs_background": "light"
     },
     "output_type": "display_data"
    }
   ],
   "source": [
    "sub[['Mid', 'SMA']].plot(figsize=(10,6), lw=0.75)"
   ]
  },
  {
   "cell_type": "code",
   "execution_count": 29,
   "metadata": {},
   "outputs": [],
   "source": [
    "from fxcmpy import fxcmpy_candles_data_reader as cdr"
   ]
  },
  {
   "cell_type": "code",
   "execution_count": 30,
   "metadata": {},
   "outputs": [
    {
     "name": "stdout",
     "output_type": "stream",
     "text": [
      "('AUDCAD', 'AUDCHF', 'AUDJPY', 'AUDNZD', 'CADCHF', 'EURAUD', 'EURCHF', 'EURGBP', 'EURJPY', 'EURUSD', 'GBPCHF', 'GBPJPY', 'GBPNZD', 'GBPUSD', 'GBPCHF', 'GBPJPY', 'GBPNZD', 'NZDCAD', 'NZDCHF', 'NZDJPY', 'NZDUSD', 'USDCAD', 'USDCHF', 'USDJPY')\n"
     ]
    }
   ],
   "source": [
    "print(cdr.get_available_symbols())"
   ]
  },
  {
   "cell_type": "code",
   "execution_count": 31,
   "metadata": {},
   "outputs": [],
   "source": [
    "start = dt.datetime(2018,5,1)\n",
    "end = dt.datetime(2018,6,30)"
   ]
  },
  {
   "cell_type": "code",
   "execution_count": 32,
   "metadata": {},
   "outputs": [],
   "source": [
    "period = 'H1'"
   ]
  },
  {
   "cell_type": "code",
   "execution_count": 62,
   "metadata": {},
   "outputs": [],
   "source": [
    "candles = cdr('EURUSD', start, stop , period)"
   ]
  },
  {
   "cell_type": "code",
   "execution_count": 63,
   "metadata": {},
   "outputs": [],
   "source": [
    "data = candles.get_data()"
   ]
  },
  {
   "cell_type": "code",
   "execution_count": 64,
   "metadata": {},
   "outputs": [
    {
     "name": "stdout",
     "output_type": "stream",
     "text": [
      "<class 'pandas.core.frame.DataFrame'>\n",
      "DatetimeIndex: 6278 entries, 2016-12-27 00:00:00 to 2017-12-29 21:00:00\n",
      "Data columns (total 8 columns):\n",
      "BidOpen     6278 non-null float64\n",
      "BidHigh     6278 non-null float64\n",
      "BidLow      6278 non-null float64\n",
      "BidClose    6278 non-null float64\n",
      "AskOpen     6278 non-null float64\n",
      "AskHigh     6278 non-null float64\n",
      "AskLow      6278 non-null float64\n",
      "AskClose    6278 non-null float64\n",
      "dtypes: float64(8)\n",
      "memory usage: 441.4 KB\n"
     ]
    }
   ],
   "source": [
    "data.info()"
   ]
  },
  {
   "cell_type": "code",
   "execution_count": 65,
   "metadata": {},
   "outputs": [
    {
     "data": {
      "text/html": [
       "<div>\n",
       "<style scoped>\n",
       "    .dataframe tbody tr th:only-of-type {\n",
       "        vertical-align: middle;\n",
       "    }\n",
       "\n",
       "    .dataframe tbody tr th {\n",
       "        vertical-align: top;\n",
       "    }\n",
       "\n",
       "    .dataframe thead th {\n",
       "        text-align: right;\n",
       "    }\n",
       "</style>\n",
       "<table border=\"1\" class=\"dataframe\">\n",
       "  <thead>\n",
       "    <tr style=\"text-align: right;\">\n",
       "      <th></th>\n",
       "      <th>BidOpen</th>\n",
       "      <th>BidHigh</th>\n",
       "      <th>BidLow</th>\n",
       "      <th>BidClose</th>\n",
       "    </tr>\n",
       "  </thead>\n",
       "  <tbody>\n",
       "    <tr>\n",
       "      <th>2017-12-29 17:00:00</th>\n",
       "      <td>1.20221</td>\n",
       "      <td>1.20255</td>\n",
       "      <td>1.20190</td>\n",
       "      <td>1.20215</td>\n",
       "    </tr>\n",
       "    <tr>\n",
       "      <th>2017-12-29 18:00:00</th>\n",
       "      <td>1.20215</td>\n",
       "      <td>1.20240</td>\n",
       "      <td>1.20119</td>\n",
       "      <td>1.20136</td>\n",
       "    </tr>\n",
       "    <tr>\n",
       "      <th>2017-12-29 19:00:00</th>\n",
       "      <td>1.20136</td>\n",
       "      <td>1.20142</td>\n",
       "      <td>1.20071</td>\n",
       "      <td>1.20093</td>\n",
       "    </tr>\n",
       "    <tr>\n",
       "      <th>2017-12-29 20:00:00</th>\n",
       "      <td>1.20093</td>\n",
       "      <td>1.20107</td>\n",
       "      <td>1.19976</td>\n",
       "      <td>1.19981</td>\n",
       "    </tr>\n",
       "    <tr>\n",
       "      <th>2017-12-29 21:00:00</th>\n",
       "      <td>1.19981</td>\n",
       "      <td>1.20076</td>\n",
       "      <td>1.19918</td>\n",
       "      <td>1.20049</td>\n",
       "    </tr>\n",
       "  </tbody>\n",
       "</table>\n",
       "</div>"
      ],
      "text/plain": [
       "                     BidOpen  BidHigh   BidLow  BidClose\n",
       "2017-12-29 17:00:00  1.20221  1.20255  1.20190   1.20215\n",
       "2017-12-29 18:00:00  1.20215  1.20240  1.20119   1.20136\n",
       "2017-12-29 19:00:00  1.20136  1.20142  1.20071   1.20093\n",
       "2017-12-29 20:00:00  1.20093  1.20107  1.19976   1.19981\n",
       "2017-12-29 21:00:00  1.19981  1.20076  1.19918   1.20049"
      ]
     },
     "execution_count": 65,
     "metadata": {},
     "output_type": "execute_result"
    }
   ],
   "source": [
    "data[data.columns[:4]].tail()"
   ]
  },
  {
   "cell_type": "code",
   "execution_count": 66,
   "metadata": {},
   "outputs": [
    {
     "data": {
      "text/html": [
       "<div>\n",
       "<style scoped>\n",
       "    .dataframe tbody tr th:only-of-type {\n",
       "        vertical-align: middle;\n",
       "    }\n",
       "\n",
       "    .dataframe tbody tr th {\n",
       "        vertical-align: top;\n",
       "    }\n",
       "\n",
       "    .dataframe thead th {\n",
       "        text-align: right;\n",
       "    }\n",
       "</style>\n",
       "<table border=\"1\" class=\"dataframe\">\n",
       "  <thead>\n",
       "    <tr style=\"text-align: right;\">\n",
       "      <th></th>\n",
       "      <th>AskOpen</th>\n",
       "      <th>AskHigh</th>\n",
       "      <th>AskLow</th>\n",
       "      <th>AskClose</th>\n",
       "    </tr>\n",
       "  </thead>\n",
       "  <tbody>\n",
       "    <tr>\n",
       "      <th>2017-12-29 17:00:00</th>\n",
       "      <td>1.20222</td>\n",
       "      <td>1.20256</td>\n",
       "      <td>1.20189</td>\n",
       "      <td>1.20216</td>\n",
       "    </tr>\n",
       "    <tr>\n",
       "      <th>2017-12-29 18:00:00</th>\n",
       "      <td>1.20216</td>\n",
       "      <td>1.20240</td>\n",
       "      <td>1.20119</td>\n",
       "      <td>1.20138</td>\n",
       "    </tr>\n",
       "    <tr>\n",
       "      <th>2017-12-29 19:00:00</th>\n",
       "      <td>1.20138</td>\n",
       "      <td>1.20143</td>\n",
       "      <td>1.20073</td>\n",
       "      <td>1.20093</td>\n",
       "    </tr>\n",
       "    <tr>\n",
       "      <th>2017-12-29 20:00:00</th>\n",
       "      <td>1.20093</td>\n",
       "      <td>1.20107</td>\n",
       "      <td>1.19978</td>\n",
       "      <td>1.19982</td>\n",
       "    </tr>\n",
       "    <tr>\n",
       "      <th>2017-12-29 21:00:00</th>\n",
       "      <td>1.19982</td>\n",
       "      <td>1.20125</td>\n",
       "      <td>1.19932</td>\n",
       "      <td>1.20092</td>\n",
       "    </tr>\n",
       "  </tbody>\n",
       "</table>\n",
       "</div>"
      ],
      "text/plain": [
       "                     AskOpen  AskHigh   AskLow  AskClose\n",
       "2017-12-29 17:00:00  1.20222  1.20256  1.20189   1.20216\n",
       "2017-12-29 18:00:00  1.20216  1.20240  1.20119   1.20138\n",
       "2017-12-29 19:00:00  1.20138  1.20143  1.20073   1.20093\n",
       "2017-12-29 20:00:00  1.20093  1.20107  1.19978   1.19982\n",
       "2017-12-29 21:00:00  1.19982  1.20125  1.19932   1.20092"
      ]
     },
     "execution_count": 66,
     "metadata": {},
     "output_type": "execute_result"
    }
   ],
   "source": [
    "data[data.columns[4:]].tail()"
   ]
  },
  {
   "cell_type": "code",
   "execution_count": 42,
   "metadata": {},
   "outputs": [],
   "source": [
    "data['MidClose'] = data[['BidClose', 'AskClose']].mean(axis=1)"
   ]
  },
  {
   "cell_type": "code",
   "execution_count": 43,
   "metadata": {},
   "outputs": [],
   "source": [
    "data['SMA1'] = data['MidClose'].rolling(30).mean()\n",
    "data['SMA2'] = data['MidClose'].rolling(100).mean()"
   ]
  },
  {
   "cell_type": "code",
   "execution_count": 44,
   "metadata": {},
   "outputs": [
    {
     "data": {
      "text/plain": [
       "<matplotlib.axes._subplots.AxesSubplot at 0x112ea93c8>"
      ]
     },
     "execution_count": 44,
     "metadata": {},
     "output_type": "execute_result"
    },
    {
     "data": {
      "image/png": "[encoded data removed]",
      "text/plain": [
       "<Figure size 720x432 with 1 Axes>"
      ]
     },
     "metadata": {
      "needs_background": "light"
     },
     "output_type": "display_data"
    }
   ],
   "source": [
    "data[['MidClose', 'SMA1', 'SMA2']].plot(figsize=(10,6))"
   ]
  },
  {
   "cell_type": "code",
   "execution_count": 80,
   "metadata": {},
   "outputs": [],
   "source": [
    "instruments = api.get_instruments()"
   ]
  },
  {
   "cell_type": "code",
   "execution_count": 81,
   "metadata": {},
   "outputs": [
    {
     "name": "stdout",
     "output_type": "stream",
     "text": [
      "['EUR/USD', 'USD/JPY', 'GBP/USD', 'USD/CHF', 'EUR/CHF', 'AUD/USD', 'USD/CAD', 'NZD/USD', 'EUR/GBP', 'EUR/JPY', 'GBP/JPY', 'CHF/JPY', 'GBP/CHF', 'EUR/AUD', 'EUR/CAD', 'AUD/CAD', 'AUD/JPY', 'CAD/JPY', 'NZD/JPY', 'GBP/CAD', 'GBP/NZD', 'GBP/AUD', 'AUD/NZD', 'USD/SEK', 'EUR/SEK', 'EUR/NOK', 'USD/NOK', 'USD/MXN', 'AUD/CHF', 'EUR/NZD', 'USD/ZAR', 'USD/HKD', 'ZAR/JPY', 'USD/TRY', 'EUR/TRY', 'NZD/CHF', 'CAD/CHF', 'NZD/CAD', 'TRY/JPY', 'AUS200', 'ESP35', 'FRA40', 'GER30', 'HKG33', 'JPN225', 'NAS100', 'SPX500', 'UK100', 'US30', 'Copper', 'CHN50', 'EUSTX50', 'USDOLLAR', 'US2000', 'USOil', 'UKOil', 'SOYF', 'NGAS', 'WHEATF', 'CORNF', 'Bund', 'XAU/USD', 'XAG/USD', 'BTC/USD', 'ETH/USD', 'LTC/USD']\n"
     ]
    }
   ],
   "source": [
    "print(instruments)"
   ]
  },
  {
   "cell_type": "code",
   "execution_count": 84,
   "metadata": {},
   "outputs": [],
   "source": [
    "def output(data, dataframe):\n",
    "    print('%3d | %s | %s | %6.5f, %6.5f'\n",
    "         % (len(dataframe), data['Symbol'],\n",
    "           pd.to_datetime(int(data['Updated']), unit='ms'),\n",
    "            data['Rates'][0],\n",
    "            data['Rates'][1]\n",
    "           ))"
   ]
  },
  {
   "cell_type": "code",
   "execution_count": 86,
   "metadata": {},
   "outputs": [],
   "source": [
    "api.subscribe_market_data('EUR/GBP', (output,))"
   ]
  },
  {
   "cell_type": "code",
   "execution_count": 99,
   "metadata": {},
   "outputs": [
    {
     "data": {
      "text/plain": [
       "Bid     0.85098\n",
       "Ask     0.85151\n",
       "High    0.85219\n",
       "Low     0.85093\n",
       "Name: 2019-03-17 18:45:44.045000, dtype: float64"
      ]
     },
     "execution_count": 99,
     "metadata": {},
     "output_type": "execute_result"
    }
   ],
   "source": [
    "api.get_last_price('EUR/GBP')"
   ]
  },
  {
   "cell_type": "code",
   "execution_count": 100,
   "metadata": {},
   "outputs": [],
   "source": [
    "api.unsubscribe_market_data('EUR/GBP')"
   ]
  },
  {
   "cell_type": "code",
   "execution_count": 101,
   "metadata": {},
   "outputs": [
    {
     "data": {
      "text/html": [
       "<div>\n",
       "<style scoped>\n",
       "    .dataframe tbody tr th:only-of-type {\n",
       "        vertical-align: middle;\n",
       "    }\n",
       "\n",
       "    .dataframe tbody tr th {\n",
       "        vertical-align: top;\n",
       "    }\n",
       "\n",
       "    .dataframe thead th {\n",
       "        text-align: right;\n",
       "    }\n",
       "</style>\n",
       "<table border=\"1\" class=\"dataframe\">\n",
       "  <thead>\n",
       "    <tr style=\"text-align: right;\">\n",
       "      <th></th>\n",
       "    </tr>\n",
       "  </thead>\n",
       "  <tbody>\n",
       "  </tbody>\n",
       "</table>\n",
       "</div>"
      ],
      "text/plain": [
       "Empty DataFrame\n",
       "Columns: []\n",
       "Index: []"
      ]
     },
     "execution_count": 101,
     "metadata": {},
     "output_type": "execute_result"
    }
   ],
   "source": [
    "api.get_open_positions()"
   ]
  },
  {
   "cell_type": "code",
   "execution_count": null,
   "metadata": {},
   "outputs": [],
   "source": []
  },
  {
   "cell_type": "code",
   "execution_count": null,
   "metadata": {},
   "outputs": [],
   "source": []
  },
  {
   "cell_type": "code",
   "execution_count": null,
   "metadata": {},
   "outputs": [],
   "source": []
  }
 ],
 "metadata": {
  "kernelspec": {
   "display_name": "Python 3",
   "language": "python",
   "name": "python3"
  },
  "language_info": {
   "codemirror_mode": {
    "name": "ipython",
    "version": 3
   },
   "file_extension": ".py",
   "mimetype": "text/x-python",
   "name": "python",
   "nbconvert_exporter": "python",
   "pygments_lexer": "ipython3",
   "version": "3.7.2"
  }
 },
 "nbformat": 4,
 "nbformat_minor": 1
}
