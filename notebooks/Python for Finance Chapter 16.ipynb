{
 "cells": [
  {
   "cell_type": "code",
   "execution_count": 26,
   "metadata": {},
   "outputs": [
    {
     "data": {
      "text/plain": [
       "\"\\nKelly Criterion\\nExpected Value of Game = (Probability(Win) - Probability(Loss)) * Size of Bet > 0\\n\\nThe available capital after n rounds of game is:\\nc(n) = c(0) * (1+f)^h - (1+f)^t\\nwhere\\nc(n) = capital at round n\\nh = probability of win\\nt = probability of loss \\nf = fraction of capital to commit\\n\\nSo the closed form log-return maximization problem becomes:\\nr(g) = (h/n) * log(1+f) + (t/n) * log(1+f)\\ni.e. the sum of the product winning probability divided by the number of trials and the product of \\nthe losing probability divided by the number of trials\\n\\nSo the f term is the maximization of the expected value of the rate of growth, which is the function G(f)\\nE[h] = n * p\\nE[t] = n * q\\n\\nThen \\nE[r^g] = p * log(1+f) + q * log(1+f)\\n= G(f)\\n\\nTaking the first derivative of G(f):\\nG'(f) = (p/1+f) - (q/1+f)\\n= (p - pf - q - qf)/((1+f)*(1-f))\\n= (p - q - f)/ ((1+f)*(1-f))\\nor the quotient of (trails * win fraction) - (trails * loss fraction) - (fraction) and the product (1 + fraction)\\nand (1 - fraction)\\n\\nso finally the optimal fraction is:\\nf(n) = p - q\\nREAL NUMBER TIME!\\nIf win chance = 55 &\\nlose change = 45\\n55 - 45 = 10, so invest 10% of capital per bet,\\n\\nof course, constraining for max position size in any given security\\n\\nLet's do it in code:\\n\""
      ]
     },
     "execution_count": 26,
     "metadata": {},
     "output_type": "execute_result"
    }
   ],
   "source": [
    "# Note to self - to install a package globally, pip install it,\n",
    "# then run jupyter notebook again\n",
    "\n",
    "'''\n",
    "Kelly Criterion\n",
    "Expected Value of Game = (Probability(Win) - Probability(Loss)) * Size of Bet > 0\n",
    "\n",
    "The available capital after n rounds of game is:\n",
    "c(n) = c(0) * (1+f)^h - (1+f)^t\n",
    "where\n",
    "c(n) = capital at round n\n",
    "h = probability of win\n",
    "t = probability of loss \n",
    "f = fraction of capital to commit\n",
    "\n",
    "So the closed form log-return maximization problem becomes:\n",
    "r(g) = (h/n) * log(1+f) + (t/n) * log(1+f)\n",
    "i.e. the sum of the product winning probability divided by the number of trials and the product of \n",
    "the losing probability divided by the number of trials\n",
    "\n",
    "So the f term is the maximization of the expected value of the rate of growth, which is the function G(f)\n",
    "E[h] = n * p\n",
    "E[t] = n * q\n",
    "\n",
    "Then \n",
    "E[r^g] = p * log(1+f) + q * log(1+f)\n",
    "= G(f)\n",
    "\n",
    "Taking the first derivative of G(f):\n",
    "G'(f) = (p/1+f) - (q/1+f)\n",
    "= (p - pf - q - qf)/((1+f)*(1-f))\n",
    "= (p - q - f)/ ((1+f)*(1-f))\n",
    "or the quotient of (trails * win fraction) - (trails * loss fraction) - (fraction) and the product (1 + fraction)\n",
    "and (1 - fraction)\n",
    "\n",
    "so finally the optimal fraction is:\n",
    "f(n) = p - q\n",
    "REAL NUMBER TIME!\n",
    "If win chance = 55 &\n",
    "lose change = 45\n",
    "55 - 45 = 10, so invest 10% of capital per bet,\n",
    "\n",
    "of course, constraining for max position size in any given security\n",
    "\n",
    "Let's do it in code:\n",
    "'''"
   ]
  },
  {
   "cell_type": "code",
   "execution_count": 27,
   "metadata": {},
   "outputs": [
    {
     "ename": "ModuleNotFoundError",
     "evalue": "No module named 'cufflinks'",
     "output_type": "error",
     "traceback": [
      "\u001b[0;31m---------------------------------------------------------------------------\u001b[0m",
      "\u001b[0;31mModuleNotFoundError\u001b[0m                       Traceback (most recent call last)",
      "\u001b[0;32m<ipython-input-27-2b5b1d49c197>\u001b[0m in \u001b[0;36m<module>\u001b[0;34m\u001b[0m\n\u001b[1;32m      4\u001b[0m \u001b[0;32mimport\u001b[0m \u001b[0mpandas\u001b[0m \u001b[0;32mas\u001b[0m \u001b[0mpd\u001b[0m\u001b[0;34m\u001b[0m\u001b[0;34m\u001b[0m\u001b[0m\n\u001b[1;32m      5\u001b[0m \u001b[0;32mimport\u001b[0m \u001b[0mdatetime\u001b[0m \u001b[0;32mas\u001b[0m \u001b[0mdt\u001b[0m\u001b[0;34m\u001b[0m\u001b[0;34m\u001b[0m\u001b[0m\n\u001b[0;32m----> 6\u001b[0;31m \u001b[0;32mimport\u001b[0m \u001b[0mcufflinks\u001b[0m \u001b[0;32mas\u001b[0m \u001b[0mcf\u001b[0m\u001b[0;34m\u001b[0m\u001b[0;34m\u001b[0m\u001b[0m\n\u001b[0m\u001b[1;32m      7\u001b[0m \u001b[0;32mfrom\u001b[0m \u001b[0mpylab\u001b[0m \u001b[0;32mimport\u001b[0m \u001b[0mplt\u001b[0m\u001b[0;34m\u001b[0m\u001b[0;34m\u001b[0m\u001b[0m\n",
      "\u001b[0;31mModuleNotFoundError\u001b[0m: No module named 'cufflinks'"
     ]
    }
   ],
   "source": [
    "import math\n",
    "import time\n",
    "import numpy as np\n",
    "import pandas as pd\n",
    "import datetime as dt\n",
    "import cufflinks as cf\n",
    "from pylab import plt"
   ]
  },
  {
   "cell_type": "code",
   "execution_count": 28,
   "metadata": {},
   "outputs": [
    {
     "ename": "NameError",
     "evalue": "name 'plt' is not defined",
     "output_type": "error",
     "traceback": [
      "\u001b[0;31m---------------------------------------------------------------------------\u001b[0m",
      "\u001b[0;31mNameError\u001b[0m                                 Traceback (most recent call last)",
      "\u001b[0;32m<ipython-input-28-7b3c0eae7790>\u001b[0m in \u001b[0;36m<module>\u001b[0;34m\u001b[0m\n\u001b[1;32m      1\u001b[0m \u001b[0mnp\u001b[0m\u001b[0;34m.\u001b[0m\u001b[0mrandom\u001b[0m\u001b[0;34m.\u001b[0m\u001b[0mseed\u001b[0m\u001b[0;34m(\u001b[0m\u001b[0;36m1000\u001b[0m\u001b[0;34m)\u001b[0m\u001b[0;34m\u001b[0m\u001b[0;34m\u001b[0m\u001b[0m\n\u001b[0;32m----> 2\u001b[0;31m \u001b[0mplt\u001b[0m\u001b[0;34m.\u001b[0m\u001b[0mstyle\u001b[0m\u001b[0;34m.\u001b[0m\u001b[0muse\u001b[0m\u001b[0;34m(\u001b[0m\u001b[0;34m'seaborn'\u001b[0m\u001b[0;34m)\u001b[0m\u001b[0;34m\u001b[0m\u001b[0;34m\u001b[0m\u001b[0m\n\u001b[0m\u001b[1;32m      3\u001b[0m \u001b[0mget_ipython\u001b[0m\u001b[0;34m(\u001b[0m\u001b[0;34m)\u001b[0m\u001b[0;34m.\u001b[0m\u001b[0mrun_line_magic\u001b[0m\u001b[0;34m(\u001b[0m\u001b[0;34m'matplotlib'\u001b[0m\u001b[0;34m,\u001b[0m \u001b[0;34m'inline'\u001b[0m\u001b[0;34m)\u001b[0m\u001b[0;34m\u001b[0m\u001b[0;34m\u001b[0m\u001b[0m\n",
      "\u001b[0;31mNameError\u001b[0m: name 'plt' is not defined"
     ]
    }
   ],
   "source": [
    "np.random.seed(1000)\n",
    "plt.style.use('seaborn')\n",
    "%matplotlib inline"
   ]
  },
  {
   "cell_type": "code",
   "execution_count": 29,
   "metadata": {},
   "outputs": [],
   "source": [
    "# Monte Carlo time!\n",
    "p = 0.55\n",
    "f = p  - (1 - p) # has to add to 1"
   ]
  },
  {
   "cell_type": "code",
   "execution_count": 30,
   "metadata": {},
   "outputs": [
    {
     "data": {
      "text/plain": [
       "0.10000000000000009"
      ]
     },
     "execution_count": 30,
     "metadata": {},
     "output_type": "execute_result"
    }
   ],
   "source": [
    "f"
   ]
  },
  {
   "cell_type": "code",
   "execution_count": 11,
   "metadata": {},
   "outputs": [],
   "source": [
    "I = 50 # trials\n",
    "n = 50 # bets per trial"
   ]
  },
  {
   "cell_type": "code",
   "execution_count": 12,
   "metadata": {},
   "outputs": [],
   "source": [
    "def run_simulation(f):\n",
    "    c = np.zeros((n, I)) # zeros matrix surface n = rows I = columns\n",
    "    c[0] = 100 # initial capital is par\n",
    "    for i in range(I):\n",
    "        for t in range(1, n):\n",
    "            o = np.random.binomial(1, p) # digitize the wins/losses against the probability of win\n",
    "            if o > 0:\n",
    "                c[t, i] = (1 + f) * c[t-1, i] # winrar\n",
    "            else:\n",
    "                c[t, i] = (1-f) * c[t-1, i] # loss\n",
    "    return c"
   ]
  },
  {
   "cell_type": "code",
   "execution_count": 13,
   "metadata": {},
   "outputs": [],
   "source": [
    "c_1 = run_simulation(f)"
   ]
  },
  {
   "cell_type": "code",
   "execution_count": 14,
   "metadata": {},
   "outputs": [
    {
     "data": {
      "text/plain": [
       "array([[100.  , 100.  , 100.  , ..., 100.  , 100.  , 100.  ],\n",
       "       [ 90.  , 110.  , 110.  , ..., 110.  , 110.  , 110.  ],\n",
       "       [ 99.  ,  99.  , 121.  , ..., 121.  , 121.  ,  99.  ],\n",
       "       ...,\n",
       "       [106.7 , 194.81, 130.41, ..., 106.7 ,  47.81,  87.3 ],\n",
       "       [117.37, 175.33, 143.45, ...,  96.03,  52.59,  78.57],\n",
       "       [129.1 , 192.86, 129.1 , ...,  86.42,  57.85,  86.42]])"
      ]
     },
     "execution_count": 14,
     "metadata": {},
     "output_type": "execute_result"
    }
   ],
   "source": [
    "c_1.round(2)"
   ]
  },
  {
   "cell_type": "code",
   "execution_count": 15,
   "metadata": {},
   "outputs": [
    {
     "ename": "NameError",
     "evalue": "name 'plt' is not defined",
     "output_type": "error",
     "traceback": [
      "\u001b[0;31m---------------------------------------------------------------------------\u001b[0m",
      "\u001b[0;31mNameError\u001b[0m                                 Traceback (most recent call last)",
      "\u001b[0;32m<ipython-input-15-d308f6d3fd12>\u001b[0m in \u001b[0;36m<module>\u001b[0;34m\u001b[0m\n\u001b[0;32m----> 1\u001b[0;31m \u001b[0mplt\u001b[0m\u001b[0;34m.\u001b[0m\u001b[0mfigure\u001b[0m\u001b[0;34m(\u001b[0m\u001b[0mfigsize\u001b[0m\u001b[0;34m=\u001b[0m\u001b[0;34m(\u001b[0m\u001b[0;36m20\u001b[0m\u001b[0;34m,\u001b[0m\u001b[0;36m12\u001b[0m\u001b[0;34m)\u001b[0m\u001b[0;34m)\u001b[0m\u001b[0;34m\u001b[0m\u001b[0;34m\u001b[0m\u001b[0m\n\u001b[0m\u001b[1;32m      2\u001b[0m \u001b[0mplt\u001b[0m\u001b[0;34m.\u001b[0m\u001b[0mplot\u001b[0m\u001b[0;34m(\u001b[0m\u001b[0mc_1\u001b[0m\u001b[0;34m,\u001b[0m \u001b[0;34m'b'\u001b[0m\u001b[0;34m,\u001b[0m \u001b[0mlw\u001b[0m\u001b[0;34m=\u001b[0m\u001b[0;36m0.5\u001b[0m\u001b[0;34m)\u001b[0m\u001b[0;34m\u001b[0m\u001b[0;34m\u001b[0m\u001b[0m\n\u001b[1;32m      3\u001b[0m \u001b[0mplt\u001b[0m\u001b[0;34m.\u001b[0m\u001b[0mplot\u001b[0m\u001b[0;34m(\u001b[0m\u001b[0mc_1\u001b[0m\u001b[0;34m.\u001b[0m\u001b[0mmean\u001b[0m\u001b[0;34m(\u001b[0m\u001b[0maxis\u001b[0m\u001b[0;34m=\u001b[0m\u001b[0;36m1\u001b[0m\u001b[0;34m)\u001b[0m\u001b[0;34m,\u001b[0m \u001b[0;34m'r'\u001b[0m\u001b[0;34m,\u001b[0m \u001b[0mlw\u001b[0m\u001b[0;34m=\u001b[0m\u001b[0;36m2.5\u001b[0m\u001b[0;34m)\u001b[0m\u001b[0;34m;\u001b[0m\u001b[0;34m\u001b[0m\u001b[0;34m\u001b[0m\u001b[0m\n",
      "\u001b[0;31mNameError\u001b[0m: name 'plt' is not defined"
     ]
    }
   ],
   "source": [
    "plt.figure(figsize=(20,12))\n",
    "plt.plot(c_1, 'b', lw=0.5)\n",
    "plt.plot(c_1.mean(axis=1), 'r', lw=2.5);"
   ]
  },
  {
   "cell_type": "code",
   "execution_count": 16,
   "metadata": {},
   "outputs": [],
   "source": [
    "c_2 = run_simulation(0.05)"
   ]
  },
  {
   "cell_type": "code",
   "execution_count": 17,
   "metadata": {},
   "outputs": [],
   "source": [
    "c_3 = run_simulation(0.25)"
   ]
  },
  {
   "cell_type": "code",
   "execution_count": 18,
   "metadata": {},
   "outputs": [],
   "source": [
    "c_4 = run_simulation(0.5)"
   ]
  },
  {
   "cell_type": "code",
   "execution_count": 19,
   "metadata": {},
   "outputs": [
    {
     "ename": "NameError",
     "evalue": "name 'plt' is not defined",
     "output_type": "error",
     "traceback": [
      "\u001b[0;31m---------------------------------------------------------------------------\u001b[0m",
      "\u001b[0;31mNameError\u001b[0m                                 Traceback (most recent call last)",
      "\u001b[0;32m<ipython-input-19-5ae8e80001bc>\u001b[0m in \u001b[0;36m<module>\u001b[0;34m\u001b[0m\n\u001b[0;32m----> 1\u001b[0;31m \u001b[0mplt\u001b[0m\u001b[0;34m.\u001b[0m\u001b[0mfigure\u001b[0m\u001b[0;34m(\u001b[0m\u001b[0mfigsize\u001b[0m\u001b[0;34m=\u001b[0m\u001b[0;34m(\u001b[0m\u001b[0;36m20\u001b[0m\u001b[0;34m,\u001b[0m\u001b[0;36m12\u001b[0m\u001b[0;34m)\u001b[0m\u001b[0;34m)\u001b[0m\u001b[0;34m\u001b[0m\u001b[0;34m\u001b[0m\u001b[0m\n\u001b[0m",
      "\u001b[0;31mNameError\u001b[0m: name 'plt' is not defined"
     ]
    }
   ],
   "source": [
    "plt.figure(figsize=(20,12))\n"
   ]
  },
  {
   "cell_type": "code",
   "execution_count": null,
   "metadata": {},
   "outputs": [],
   "source": [
    "'''\n",
    "Dot Products: for element A[0][c], sum up A[0][c] * B[r][0] for r in A\n",
    "i.e. hold the row constant for matrix 1, hold the column constant for matrix 2\n",
    "'''\n",
    "a = np.array([[1,2,3],[4,5,6]])\n",
    "b = np.array([[1,2,3],[3,4,5],[5,6,7]])"
   ]
  }
 ],
 "metadata": {
  "kernelspec": {
   "display_name": "Python 3",
   "language": "python",
   "name": "python3"
  },
  "language_info": {
   "codemirror_mode": {
    "name": "ipython",
    "version": 3
   },
   "file_extension": ".py",
   "mimetype": "text/x-python",
   "name": "python",
   "nbconvert_exporter": "python",
   "pygments_lexer": "ipython3",
   "version": "3.7.2"
  }
 },
 "nbformat": 4,
 "nbformat_minor": 2
}
