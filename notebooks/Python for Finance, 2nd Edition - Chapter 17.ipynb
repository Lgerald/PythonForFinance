{
 "cells": [
  {
   "cell_type": "code",
   "execution_count": 1,
   "metadata": {},
   "outputs": [],
   "source": [
    "import numpy as np\n",
    "import pandas as pd\n",
    "import datetime as dt"
   ]
  },
  {
   "cell_type": "code",
   "execution_count": 3,
   "metadata": {},
   "outputs": [],
   "source": [
    "from pylab import mpl, plt\n",
    "plt.style.use('seaborn')\n",
    "mpl.rcParams['font.family'] = 'serif'\n",
    "%matplotlib inline"
   ]
  },
  {
   "cell_type": "code",
   "execution_count": 4,
   "metadata": {},
   "outputs": [],
   "source": [
    "import sys\n",
    "sys.path.append('../dx')"
   ]
  },
  {
   "cell_type": "code",
   "execution_count": 5,
   "metadata": {},
   "outputs": [
    {
     "data": {
      "text/plain": [
       "'\\nThe Fundamental Theorem of Asset Pricing:\\nMartingale Measure: A probability measure that removes the drift associate \\nwith a Weiner process of the risk-free rate (i.e. makes the rate long sense stationary)\\n\\nExample: Imagine a one day economy with a bond that costs 10 today and pays 10 tomorrow with P(1): E(x) = 0\\nand a stock that costs 10 and pays P(0.6) = 20 and P(0.4) = 0; E(x) = ((0.6*20) + (0.4*0)/10) - 1= 0.2\\n\\nNow add an option pays P(0.6) = 5 and P(0.4) = 0; E(x) = (0.6*5) = 3\\n\\nAnother approach to this pricing is replicating the option through a portfolio of securities that replicates its\\nexpected value. \\nBuying 0.25 of the stock costs 2.5 (10 * .25) and has an expected value .25 * 20 = 5, so has the same expected value\\nof a win, but only costs (0.25 * 10) = 2.5. So the option is overvalued\\n\\nBecause of this, the seller of the option can fully hedge the risk by buying the portfolio that replicates the option\\nprofile. The payoff of this hedged portfolio yields exactly the risk-free rate, because otherwise arbitrage would\\nresult.\\n\\nIf we change the probabilities so the expected value is 0, the stock and options expected values become 0:\\n((0.5 * 20 + 0.5 * 0) / 10) - 1 = 0 is the expected return, and the option price is (0.5 * 5 + 0.5 * 0) = 2.5,\\nequivalent to the option-replicating portfolios cost.\\n\\n'"
      ]
     },
     "execution_count": 5,
     "metadata": {},
     "output_type": "execute_result"
    }
   ],
   "source": [
    "'''\n",
    "The Fundamental Theorem of Asset Pricing:\n",
    "Martingale Measure: A probability measure that removes the drift associate \n",
    "with a Weiner process of the risk-free rate (i.e. makes the rate long sense stationary)\n",
    "\n",
    "Example: Imagine a one day economy with a bond that costs 10 today and pays 10 tomorrow with P(1): E(x) = 0\n",
    "and a stock that costs 10 and pays P(0.6) = 20 and P(0.4) = 0; E(x) = ((0.6*20) + (0.4*0)/10) - 1= 0.2\n",
    "\n",
    "Now add an option pays P(0.6) = 5 and P(0.4) = 0; E(x) = (0.6*5) = 3\n",
    "\n",
    "Another approach to this pricing is replicating the option through a portfolio of securities that replicates its\n",
    "expected value. \n",
    "Buying 0.25 of the stock costs 2.5 (10 * .25) and has an expected value .25 * 20 = 5, so has the same expected value\n",
    "of a win, but only costs (0.25 * 10) = 2.5. So the option is overvalued\n",
    "\n",
    "Because of this, the seller of the option can fully hedge the risk by buying the portfolio that replicates the option\n",
    "profile. The payoff of this hedged portfolio yields exactly the risk-free rate, because otherwise arbitrage would\n",
    "result.\n",
    "\n",
    "If we change the probabilities so the expected value is 0, the stock and options expected values become 0:\n",
    "((0.5 * 20 + 0.5 * 0) / 10) - 1 = 0 is the expected return, and the option price is (0.5 * 5 + 0.5 * 0) = 2.5,\n",
    "equivalent to the option-replicating portfolios cost.\n",
    "\n",
    "'''"
   ]
  },
  {
   "cell_type": "code",
   "execution_count": null,
   "metadata": {},
   "outputs": [],
   "source": [
    "'''\n",
    "Let's generalize this to a discrete time market model M with parameters:\n",
    "Sigma: a finite state space (i.e. discrete steps in the economies evolution)\n",
    "'''"
   ]
  }
 ],
 "metadata": {
  "kernelspec": {
   "display_name": "Python 3",
   "language": "python",
   "name": "python3"
  },
  "language_info": {
   "codemirror_mode": {
    "name": "ipython",
    "version": 3
   },
   "file_extension": ".py",
   "mimetype": "text/x-python",
   "name": "python",
   "nbconvert_exporter": "python",
   "pygments_lexer": "ipython3",
   "version": "3.7.2"
  }
 },
 "nbformat": 4,
 "nbformat_minor": 2
}
