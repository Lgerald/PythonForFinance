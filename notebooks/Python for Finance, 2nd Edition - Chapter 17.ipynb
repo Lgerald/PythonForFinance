{
 "cells": [
  {
   "cell_type": "code",
   "execution_count": 1,
   "metadata": {},
   "outputs": [],
   "source": [
    "import numpy as np\n",
    "import pandas as pd\n",
    "import datetime as dt"
   ]
  },
  {
   "cell_type": "code",
   "execution_count": 3,
   "metadata": {},
   "outputs": [],
   "source": [
    "from pylab import mpl, plt\n",
    "plt.style.use('seaborn')\n",
    "mpl.rcParams['font.family'] = 'serif'\n",
    "%matplotlib inline"
   ]
  },
  {
   "cell_type": "code",
   "execution_count": 4,
   "metadata": {},
   "outputs": [],
   "source": [
    "import sys\n",
    "sys.path.append('../dx')"
   ]
  },
  {
   "cell_type": "code",
   "execution_count": 5,
   "metadata": {},
   "outputs": [
    {
     "data": {
      "text/plain": [
       "'\\nThe Fundamental Theorem of Asset Pricing:\\nMartingale Measure: A probability measure that removes the drift associate \\nwith a Weiner process of the risk-free rate (i.e. makes the rate long sense stationary)\\n\\nExample: Imagine a one day economy with a bond that costs 10 today and pays 10 tomorrow with P(1): E(x) = 0\\nand a stock that costs 10 and pays P(0.6) = 20 and P(0.4) = 0; E(x) = ((0.6*20) + (0.4*0)/10) - 1= 0.2\\n\\nNow add an option pays P(0.6) = 5 and P(0.4) = 0; E(x) = (0.6*5) = 3\\n\\nAnother approach to this pricing is replicating the option through a portfolio of securities that replicates its\\nexpected value. \\nBuying 0.25 of the stock costs 2.5 (10 * .25) and has an expected value .25 * 20 = 5, so has the same expected value\\nof a win, but only costs (0.25 * 10) = 2.5. So the option is overvalued\\n\\nBecause of this, the seller of the option can fully hedge the risk by buying the portfolio that replicates the option\\nprofile. The payoff of this hedged portfolio yields exactly the risk-free rate, because otherwise arbitrage would\\nresult.\\n\\nIf we change the probabilities so the expected value is 0, the stock and options expected values become 0:\\n((0.5 * 20 + 0.5 * 0) / 10) - 1 = 0 is the expected return, and the option price is (0.5 * 5 + 0.5 * 0) = 2.5,\\nequivalent to the option-replicating portfolios cost.\\n\\n'"
      ]
     },
     "execution_count": 5,
     "metadata": {},
     "output_type": "execute_result"
    }
   ],
   "source": [
    "'''\n",
    "The Fundamental Theorem of Asset Pricing:\n",
    "Martingale Measure: A probability measure that removes the drift associate \n",
    "with a Weiner process of the risk-free rate (i.e. makes the rate long sense stationary)\n",
    "\n",
    "Example: Imagine a one day economy with a bond that costs 10 today and pays 10 tomorrow with P(1): E(x) = 0\n",
    "and a stock that costs 10 and pays P(0.6) = 20 and P(0.4) = 0; E(x) = ((0.6*20) + (0.4*0)/10) - 1= 0.2\n",
    "\n",
    "Now add an option pays P(0.6) = 5 and P(0.4) = 0; E(x) = (0.6*5) = 3\n",
    "\n",
    "Another approach to this pricing is replicating the option through a portfolio of securities that replicates its\n",
    "expected value. \n",
    "Buying 0.25 of the stock costs 2.5 (10 * .25) and has an expected value .25 * 20 = 5, so has the same expected value\n",
    "of a win, but only costs (0.25 * 10) = 2.5. So the option is overvalued\n",
    "\n",
    "Because of this, the seller of the option can fully hedge the risk by buying the portfolio that replicates the option\n",
    "profile. The payoff of this hedged portfolio yields exactly the risk-free rate, because otherwise arbitrage would\n",
    "result.\n",
    "\n",
    "If we change the probabilities so the expected value is 0, the stock and options expected values become 0:\n",
    "((0.5 * 20 + 0.5 * 0) / 10) - 1 = 0 is the expected return, and the option price is (0.5 * 5 + 0.5 * 0) = 2.5,\n",
    "equivalent to the option-replicating portfolios cost.\n",
    "\n",
    "'''"
   ]
  },
  {
   "cell_type": "code",
   "execution_count": 6,
   "metadata": {},
   "outputs": [
    {
     "data": {
      "text/plain": [
       "\"\\nLet's generalize this to a discrete time market model M with parameters:\\nSigma: a finite state space (i.e. discrete steps in the economies evolution)\\nF: A filtration\\nP: A probability measure defined on Sigma (in all states)\\nT: A terminal date (end of state space)\\nS: A set S[t][k] of security price processes (t=time, k=security)\\n\\nGiven this model, the following hold:\\nThere are no arbitrage opportunities in M\\nThe set Q of P-equivalent Martingale measures is not empty\\nThe set P (diff from probability measure) of consistent linear price systems is nonempty\\n\\nSo:\\nif the market model M is arbitrage free, there exists a unique price V(0) associated with any derivative V(T). \\nThis satisfies the condition Q(V(0)) = Expected Value(e^-rT * V(t)). This is the risk-neutral valuation approach.\\n\\nSo our model will let all stochastic processes drift by the risk-free rate.\\n\""
      ]
     },
     "execution_count": 6,
     "metadata": {},
     "output_type": "execute_result"
    }
   ],
   "source": [
    "'''\n",
    "Let's generalize this to a discrete time market model M with parameters:\n",
    "Sigma: a finite state space (i.e. discrete steps in the economies evolution)\n",
    "F: A filtration\n",
    "P: A probability measure defined on Sigma (in all states)\n",
    "T: A terminal date (end of state space)\n",
    "S: A set S[t][k] of security price processes (t=time, k=security)\n",
    "\n",
    "Given this model, the following hold:\n",
    "There are no arbitrage opportunities in M\n",
    "The set Q of P-equivalent Martingale measures is not empty\n",
    "The set P (diff from probability measure) of consistent linear price systems is nonempty\n",
    "\n",
    "So:\n",
    "if the market model M is arbitrage free, there exists a unique price V(0) associated with any derivative V(T). \n",
    "This satisfies the condition Q(V(0)) = Expected Value(e^-rT * V(t)). This is the risk-neutral valuation approach.\n",
    "\n",
    "So our model will let all stochastic processes drift by the risk-free rate.\n",
    "'''"
   ]
  },
  {
   "cell_type": "code",
   "execution_count": 9,
   "metadata": {},
   "outputs": [
    {
     "data": {
      "text/plain": [
       "'\\nA derivatives analytics library has to discretize the time an option has until expiry, so it has a price at each\\nstep. This can be done by counting days or using year fractions.\\n\\n'"
      ]
     },
     "execution_count": 9,
     "metadata": {},
     "output_type": "execute_result"
    }
   ],
   "source": [
    "'''\n",
    "A derivatives analytics library has to discretize the time an option has until expiry, so it has a price at each\n",
    "step. This can be done by counting days or using year fractions.\n",
    "\n",
    "'''"
   ]
  },
  {
   "cell_type": "code",
   "execution_count": 10,
   "metadata": {},
   "outputs": [],
   "source": [
    "dates = [dt.datetime(2020,1,1), dt.datetime(2020,7,1), dt.datetime(2021, 1, 1)]"
   ]
  },
  {
   "cell_type": "code",
   "execution_count": 12,
   "metadata": {},
   "outputs": [
    {
     "data": {
      "text/plain": [
       "0.4986301369863014"
      ]
     },
     "execution_count": 12,
     "metadata": {},
     "output_type": "execute_result"
    }
   ],
   "source": [
    "(dates[1] - dates[0]).days/365"
   ]
  },
  {
   "cell_type": "code",
   "execution_count": 13,
   "metadata": {},
   "outputs": [
    {
     "data": {
      "text/plain": [
       "0.5041095890410959"
      ]
     },
     "execution_count": 13,
     "metadata": {},
     "output_type": "execute_result"
    }
   ],
   "source": [
    "(dates[2] - dates[1]).days/365"
   ]
  },
  {
   "cell_type": "code",
   "execution_count": 14,
   "metadata": {},
   "outputs": [],
   "source": [
    "fractions = [0.0, 0.5, 1]"
   ]
  },
  {
   "cell_type": "code",
   "execution_count": 19,
   "metadata": {},
   "outputs": [],
   "source": [
    "# get year fractions out of a list of dates\n",
    "def get_year_deltas(date_list, day_count=365):\n",
    "    '''\n",
    "    date_list: list or array - collection of datetime objects\n",
    "    \n",
    "    day_count: float - number of days in a year\n",
    "    \n",
    "    Results\n",
    "    =========\n",
    "    delta_list: array - year fractions\n",
    "    '''\n",
    "    start = date_list[0]\n",
    "    delta_list = [(date - start).days / day_count for date in date_list]\n",
    "    return np.array(delta_list)"
   ]
  },
  {
   "cell_type": "code",
   "execution_count": 20,
   "metadata": {},
   "outputs": [
    {
     "data": {
      "text/plain": [
       "array([0.        , 0.49863014, 1.00273973])"
      ]
     },
     "execution_count": 20,
     "metadata": {},
     "output_type": "execute_result"
    }
   ],
   "source": [
    "get_year_deltas(dates)"
   ]
  },
  {
   "cell_type": "code",
   "execution_count": 31,
   "metadata": {},
   "outputs": [],
   "source": [
    "'''\n",
    "This is useful for calculating the general discount factor, in this case\n",
    "exp(-r * t) at time t\n",
    "Modeling this as a class:\n",
    "'''\n",
    "class constant_short_rate(object):\n",
    "    '''\n",
    "    Class for constant short rate discounting.\n",
    "    \n",
    "    Attributes\n",
    "    ===========\n",
    "    name: string - name of the object\n",
    "    short_rate: float (positive) - constant rate for discounting\n",
    "    \n",
    "    Results\n",
    "    ==========\n",
    "    get_discount_factors: get discount factors given a list/array of timestamp objects\n",
    "    '''\n",
    "    \n",
    "    def __init__(self, name, short_rate):\n",
    "        self.name = name\n",
    "        self.short_rate = short_rate\n",
    "        if(short_rate < 0):\n",
    "            raise ValueError('Short rate negative.')\n",
    "    \n",
    "    def get_discount_factors(self, date_list, dtobjects=True):\n",
    "        if dtobjects is True:\n",
    "            dlist = get_year_deltas(date_list)\n",
    "        else:\n",
    "            dlist = np.array(date_list)\n",
    "        dflist = np.exp(self.short_rate * np.sort(-dlist)) # take negative of time fractions\n",
    "        return np.array((date_list, dflist)).T"
   ]
  },
  {
   "cell_type": "code",
   "execution_count": 32,
   "metadata": {},
   "outputs": [],
   "source": [
    "csr = constant_short_rate('csr', 0.05)"
   ]
  },
  {
   "cell_type": "code",
   "execution_count": 33,
   "metadata": {},
   "outputs": [
    {
     "data": {
      "text/plain": [
       "array([[datetime.datetime(2020, 1, 1, 0, 0), 0.9510991280247174],\n",
       "       [datetime.datetime(2020, 7, 1, 0, 0), 0.9753767163648953],\n",
       "       [datetime.datetime(2021, 1, 1, 0, 0), 1.0]], dtype=object)"
      ]
     },
     "execution_count": 33,
     "metadata": {},
     "output_type": "execute_result"
    }
   ],
   "source": [
    "csr.get_discount_factors(dates)"
   ]
  },
  {
   "cell_type": "code",
   "execution_count": 35,
   "metadata": {},
   "outputs": [
    {
     "data": {
      "text/plain": [
       "array([0.        , 0.49863014, 1.00273973])"
      ]
     },
     "execution_count": 35,
     "metadata": {},
     "output_type": "execute_result"
    }
   ],
   "source": [
    "deltas = get_year_deltas(dates)\n",
    "deltas"
   ]
  },
  {
   "cell_type": "code",
   "execution_count": 37,
   "metadata": {},
   "outputs": [
    {
     "data": {
      "text/plain": [
       "array([[0.        , 0.95109913],\n",
       "       [0.49863014, 0.97537672],\n",
       "       [1.00273973, 1.        ]])"
      ]
     },
     "execution_count": 37,
     "metadata": {},
     "output_type": "execute_result"
    }
   ],
   "source": [
    "csr.get_discount_factors(deltas, dtobjects=False)"
   ]
  },
  {
   "cell_type": "code",
   "execution_count": 41,
   "metadata": {},
   "outputs": [],
   "source": [
    "class market_environment(object):\n",
    "    '''\n",
    "    class to model a market environment relevant for valuation\n",
    "    \n",
    "    Attributes\n",
    "    ===========\n",
    "    name: string - name of the market environment\n",
    "    pricing_date: datetime - date of the market environment\n",
    "    \n",
    "    Methods\n",
    "    =========\n",
    "    add_constant: adds a constant market parameter\n",
    "    get_constant: get constant\n",
    "    add_lists: adds a list (of underlyings)\n",
    "    get_list: gets a list\n",
    "    add_curve: adds a market curve (i.e. yield curve)\n",
    "    get_curve: gets a market curve\n",
    "    add_environment: upserts whole market environments with constants, lists, curves\n",
    "    \n",
    "    '''\n",
    "    def __init__(self, name, pricing_date):\n",
    "        self.name = name\n",
    "        self.pricing_date = pricing_date\n",
    "        self.constants = {}\n",
    "        self.lists = {}\n",
    "        self.curves = {}\n",
    "        \n",
    "    def add_constant(self, key, constant):\n",
    "        self.constants[key] = constant\n",
    "    \n",
    "    def get_constant(self, key):\n",
    "        return self.constants[key]\n",
    "    \n",
    "    def add_list(self, key, list_object):\n",
    "        self.lists[key] = list_object\n",
    "        \n",
    "    def get_list(self, key):\n",
    "        return self.lists[key]\n",
    "    \n",
    "    def add_curve(self, key, curve):\n",
    "        self.curves[key] = curve\n",
    "        \n",
    "    def get_curve(self, key):\n",
    "        return self.curves[key]\n",
    "    \n",
    "    def add_environment(self, env):\n",
    "        # overwrite values for class if they exist\n",
    "        self.constants.update(env.constants)\n",
    "        self.lists.update(env.lists)\n",
    "        self.curves.update(env.curves)\n",
    "        "
   ]
  },
  {
   "cell_type": "code",
   "execution_count": 42,
   "metadata": {},
   "outputs": [],
   "source": [
    "me = market_environment('me_gbm', dt.datetime(2020, 1, 1))"
   ]
  },
  {
   "cell_type": "code",
   "execution_count": 43,
   "metadata": {},
   "outputs": [],
   "source": [
    "me.add_constant('initial_value', 36.)"
   ]
  },
  {
   "cell_type": "code",
   "execution_count": 44,
   "metadata": {},
   "outputs": [],
   "source": [
    "me.add_constant('volatility', 0.2)"
   ]
  },
  {
   "cell_type": "code",
   "execution_count": 45,
   "metadata": {},
   "outputs": [],
   "source": [
    "me.add_constant('final_date', dt.datetime(2020, 12, 31))"
   ]
  },
  {
   "cell_type": "code",
   "execution_count": 46,
   "metadata": {},
   "outputs": [],
   "source": [
    "me.add_constant('currency', 'EUR')"
   ]
  },
  {
   "cell_type": "code",
   "execution_count": 47,
   "metadata": {},
   "outputs": [],
   "source": [
    "me.add_constant('frequency', 'M')"
   ]
  },
  {
   "cell_type": "code",
   "execution_count": 48,
   "metadata": {},
   "outputs": [],
   "source": [
    "me.add_constant('paths', 10000)"
   ]
  },
  {
   "cell_type": "code",
   "execution_count": 49,
   "metadata": {},
   "outputs": [],
   "source": [
    "me.add_curve('discount_curve', csr)"
   ]
  },
  {
   "cell_type": "code",
   "execution_count": 50,
   "metadata": {},
   "outputs": [
    {
     "data": {
      "text/plain": [
       "0.2"
      ]
     },
     "execution_count": 50,
     "metadata": {},
     "output_type": "execute_result"
    }
   ],
   "source": [
    "me.get_constant('volatility')"
   ]
  },
  {
   "cell_type": "code",
   "execution_count": 52,
   "metadata": {},
   "outputs": [
    {
     "data": {
      "text/plain": [
       "0.05"
      ]
     },
     "execution_count": 52,
     "metadata": {},
     "output_type": "execute_result"
    }
   ],
   "source": [
    "me.get_curve('discount_curve').short_rate"
   ]
  },
  {
   "cell_type": "code",
   "execution_count": null,
   "metadata": {},
   "outputs": [],
   "source": []
  }
 ],
 "metadata": {
  "kernelspec": {
   "display_name": "Python 3",
   "language": "python",
   "name": "python3"
  },
  "language_info": {
   "codemirror_mode": {
    "name": "ipython",
    "version": 3
   },
   "file_extension": ".py",
   "mimetype": "text/x-python",
   "name": "python",
   "nbconvert_exporter": "python",
   "pygments_lexer": "ipython3",
   "version": "3.7.3"
  }
 },
 "nbformat": 4,
 "nbformat_minor": 2
}
