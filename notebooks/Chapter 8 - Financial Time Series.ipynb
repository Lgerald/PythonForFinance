{
 "cells": [
  {
   "cell_type": "code",
   "execution_count": 2,
   "metadata": {},
   "outputs": [
    {
     "data": {
      "text/plain": [
       "'\\nPlate notation is so damn cool - look it up if you come back to this and have forgotten what it is.\\nYou can bin any continuous quantity - so returns, prices, # of stddev above/below mean price can all be binned and \\ndistributed.\\nLatent Dirichlet (DEER-ISH-LAY) Allocation is\\n1. Latent because a documents topic is not directly observe, so the variable is latent\\n2. Dirichlet because the distributions follow that distribution family\\n3. Allocation because you are allocation documents to a topic\\n4. Each Document gets a distribution of belonging-ness to a topic\\n5. Each word in each document gets a distribution of what topic it suggests\\n6. The words themselves are the only observable variables, all other distributions and the topics \\n    in those distributions are latent\\n'"
      ]
     },
     "execution_count": 2,
     "metadata": {},
     "output_type": "execute_result"
    }
   ],
   "source": [
    "'''\n",
    "Plate notation is so damn cool - look it up if you come back to this and have forgotten what it is.\n",
    "You can bin any continuous quantity - so returns, prices, # of stddev above/below mean price can all be binned and \n",
    "distributed.\n",
    "Latent Dirichlet (DEER-ISH-LAY) Allocation is\n",
    "1. Latent because a documents topic is not directly observe, so the variable is latent\n",
    "2. Dirichlet because the distributions follow that distribution family\n",
    "3. Allocation because you are allocation documents to a topic\n",
    "4. Each Document gets a distribution of belonging-ness to a topic\n",
    "5. Each word in each document gets a distribution of what topic it suggests\n",
    "6. The words themselves are the only observable variables, all other distributions and the topics \n",
    "    in those distributions are latent\n",
    "''' \n"
   ]
  },
  {
   "cell_type": "code",
   "execution_count": null,
   "metadata": {},
   "outputs": [],
   "source": [
    "'''\n",
    "The way Fourier expansion works is to add sin(x) + 3sin(x)/3 ………… etc. until you get to the waveform you want\n",
    "The coefficients and the number of terms to expand to is determined by the period of the wave being decomposed\n",
    "\n",
    "See here: https://www.mathsisfun.com/calculus/fourier-series.html\n",
    "\n",
    "A sine wave's net area over a period is 0\n",
    "'''"
   ]
  },
  {
   "cell_type": "code",
   "execution_count": 3,
   "metadata": {},
   "outputs": [],
   "source": [
    "import numpy as np\n",
    "import pandas as pd\n",
    "from pylab import mpl, plt\n",
    "plt.style.use('seaborn')\n",
    "mpl.rcParams['font.family'] = 'serif'\n",
    "%matplotlib inline"
   ]
  },
  {
   "cell_type": "code",
   "execution_count": 15,
   "metadata": {},
   "outputs": [
    {
     "data": {
      "text/plain": [
       "['Date,AAPL.O,MSFT.O,INTC.O,AMZN.O,GS.N,SPY,.SPX,.VIX,EUR=,XAU=,GDX,GLD\\n',\n",
       " '2010-01-01,,,,,,,,,1.4323,1096.35,,\\n',\n",
       " '2010-01-04,30.57282657,30.95,20.88,133.9,173.08,113.33,1132.99,20.04,1.4411,1120.0,47.71,109.8\\n',\n",
       " '2010-01-05,30.625683660000004,30.96,20.87,134.69,176.14,113.63,1136.52,19.35,1.4368,1118.65,48.17,109.7\\n',\n",
       " '2010-01-06,30.138541290000003,30.77,20.8,132.25,174.26,113.71,1137.14,19.16,1.4412,1138.5,49.34,111.51\\n']"
      ]
     },
     "execution_count": 15,
     "metadata": {},
     "output_type": "execute_result"
    }
   ],
   "source": [
    "filename = 'tr_eikon_eod_data.csv'\n",
    "f = open(filename, 'r')\n",
    "f.readlines()[:5] # Header and first four lines"
   ]
  },
  {
   "cell_type": "code",
   "execution_count": null,
   "metadata": {},
   "outputs": [],
   "source": []
  }
 ],
 "metadata": {
  "kernelspec": {
   "display_name": "Python 3",
   "language": "python",
   "name": "python3"
  },
  "language_info": {
   "codemirror_mode": {
    "name": "ipython",
    "version": 3
   },
   "file_extension": ".py",
   "mimetype": "text/x-python",
   "name": "python",
   "nbconvert_exporter": "python",
   "pygments_lexer": "ipython3",
   "version": "3.7.3"
  }
 },
 "nbformat": 4,
 "nbformat_minor": 2
}
