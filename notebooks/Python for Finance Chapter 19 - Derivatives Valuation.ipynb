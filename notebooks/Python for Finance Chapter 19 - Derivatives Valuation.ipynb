{
 "cells": [
  {
   "cell_type": "code",
   "execution_count": null,
   "metadata": {},
   "outputs": [],
   "source": [
    "class valuation_class(object):\n",
    "    '''\n",
    "    Basic class for single factor derivative valuation\n",
    "    Attributes\n",
    "    =========\n",
    "    name: str - name of the object\n",
    "    underlying: instance of a simulation class modeling single risk factor\n",
    "    mar_env: instance of market environment\n",
    "    payoff_func: str - derivative payoff as a python function that can be evaluated\n",
    "    \n",
    "    Methods\n",
    "    =========\n",
    "    update: updates selected valuation parameters\n",
    "    delta: returns delta of derivative (change in price to underlying risk factor)\n",
    "    vega: returns vega of derivative (change in price to implied volatility)\n",
    "    '''\n",
    "    def __init__(self, name, underlying, mar_env, payoff_func=''):\n",
    "        self.name = name\n",
    "        self.pricing_date = mar_env.pricing_date\n",
    "        try:\n",
    "            # strike price is optional\n",
    "            self.strike = mar_env.get_constant('strike')\n",
    "        except:\n",
    "            pass\n",
    "        self.maturity = mar_env.get_constant('maturity')\n",
    "        self.currency = mar_env.get_constant('currency')\n",
    "        # simulation parameters and discount curve from simulation object\n",
    "        self.frequency = underlying.frequency\n",
    "        self.paths = underlying.paths\n",
    "        self.discount_curve = underlying.discount_curve\n",
    "        self.payoff_func = payoff_func\n",
    "        # provide pricing and maturity date to underlying\n",
    "        self.underlying.special_dates.extend([self.pricing_date, self.maturity])\n",
    "        \n",
    "    def update(self, initial_value=None, volatility=None, strike=None, maturity=None):\n",
    "        if initial_value is not None:\n",
    "            self.underlying.update(initial_value=initial_value)\n",
    "        if volatility is not None:\n",
    "            self.underlying.update(volatility=volatility)\n",
    "        if strike is not None:\n",
    "            self.strike = strike\n",
    "        if maturity is not None:\n",
    "            self.maturity = maturity\n",
    "            # add new maturity date if not already in time_grid\n",
    "            if maturity not in self.underlying.time_grid:\n",
    "                self.underlying.special_dates.append(maturity)\n",
    "                self.underlying.instrument_values = None # because this means it is first update\n",
    "                \n",
    "    def delta(self, interval=None, accuracy=4):\n",
    "        if interval is None:\n",
    "            interval = self.underlying.initial_value / 50. # ?\n",
    "            \n",
    "        "
   ]
  }
 ],
 "metadata": {
  "kernelspec": {
   "display_name": "Python 3",
   "language": "python",
   "name": "python3"
  },
  "language_info": {
   "codemirror_mode": {
    "name": "ipython",
    "version": 3
   },
   "file_extension": ".py",
   "mimetype": "text/x-python",
   "name": "python",
   "nbconvert_exporter": "python",
   "pygments_lexer": "ipython3",
   "version": "3.7.3"
  }
 },
 "nbformat": 4,
 "nbformat_minor": 2
}
